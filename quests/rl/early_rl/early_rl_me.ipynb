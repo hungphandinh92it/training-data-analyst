{
 "cells": [
  {
   "cell_type": "markdown",
   "metadata": {},
   "source": [
    "# Early Reinforcement Learning\n",
    "\n",
    "With the advances of modern computing power, the study of Reinforcement Learning is having a heyday. Machines are now able to learn complex tasks once thought to be solely in the domain of humans, from controlling the [heating and cooling in massive data centers](https://www.technologyreview.com/s/611902/google-just-gave-control-over-data-center-cooling-to-an-ai/) to beating [grandmasters at Starcraft](https://storage.googleapis.com/deepmind-media/research/alphastar/AlphaStar_unformatted.pdf). As magnificent as it may seem today, it had humble roots many decades ago. Seeing how far it's come, it's a wonder to see how far it will go!\n",
    "\n",
    "Let's take a step back in time to see how these early algorithms developed. Many of these algorithms make sense given the context of when they were created. Challenge yourself and see if you can come up with the same strategies given the right problem. Ok! Time to cozy up for a story.\n",
    "\n",
    "<img src=\"images/hero.jpg\" width=\"488\" height=\"172\">\n",
    "\n",
    "This is the hero of our story, the gumdrop emoji. It was enjoying a cool winter day building a snowman when suddenly, it slipped and fell on a frozen lake of death.\n",
    "\n",
    "\n",
    "<img src=\"images/lake.jpg\" width=\"900\" height=\"680\">\n",
    "\n",
    "The lake can be thought of as a 4 x 4 grid where the gumdrop can move left (0), down (1), right (2) and up (3). Unfortunately, this frozen lake of death has holes of death where if the gumdrop enters that square, it will fall in and meet an untimely demise. To make matters worse, the lake is surrounded by icy boulders that if the gumdrop attempts to climb, will have it slip back into its original position. Thankfully, at the bottom right of the lake is a safe ramp that leads to a nice warm cup of hot cocoa.\n",
    "\n",
    "## Set Up\n",
    "\n",
    "We can try and save the gumdrop ourselves! This is a common game people begin their Reinforcement Learning journey with, and is included in the OpenAI's python package [Gym](https://gym.openai.com/) and is aptly named [FrozenLake-v0](https://gym.openai.com/envs/FrozenLake-v0/) ([code](https://github.com/openai/gym/blob/master/gym/envs/toy_text/frozen_lake.py)). No time to waste, let's get the environment up and running. Run the below to install the needed libraries if they are not installed already."
   ]
  },
  {
   "cell_type": "code",
   "metadata": {
    "ExecuteTime": {
     "end_time": "2024-05-22T15:09:21.398647Z",
     "start_time": "2024-05-22T15:09:21.394761Z"
    }
   },
   "source": [
    "# Replace with the Tensorflow version that you selected while creating the instance.\n",
    "# !pip install tensorflow==2.x --user"
   ],
   "outputs": [],
   "execution_count": 1
  },
  {
   "cell_type": "markdown",
   "metadata": {},
   "source": [
    "**NOTE**: In the output of the above cell you may ignore any WARNINGS or ERRORS related to the dependency resolver."
   ]
  },
  {
   "cell_type": "markdown",
   "metadata": {},
   "source": [
    "If you get any related errors mentioned above please rerun the above cell."
   ]
  },
  {
   "cell_type": "code",
   "metadata": {
    "ExecuteTime": {
     "end_time": "2024-05-22T15:09:23.191289Z",
     "start_time": "2024-05-22T15:09:23.187536Z"
    }
   },
   "source": [
    "#!pip install gymnasium --user\n",
    "#!pip install gymnasium[toy-text]"
   ],
   "outputs": [],
   "execution_count": 2
  },
  {
   "cell_type": "markdown",
   "metadata": {},
   "source": [
    "There are [four methods from Gym](http://gym.openai.com/docs/) that are going to be useful to us in order to save the gumdrop.\n",
    "* `make` allows us to build the environment or game that we can pass actions to\n",
    "* `reset` will reset an environment to it's starting configuration and return the state of the player\n",
    "* `render` displays the environment for human eyes\n",
    "* `step` takes an action and returns the player's next state.\n",
    "\n",
    "Let's make, reset, and render the game. The output is an ANSI string with the following characters:\n",
    "* `S` for starting point\n",
    "* `F` for frozen\n",
    "* `H` for hole\n",
    "* `G` for goal\n",
    "* A red square indicates the current position"
   ]
  },
  {
   "cell_type": "markdown",
   "metadata": {},
   "source": [
    "**Note**: Restart the kernel if the above libraries needed to be installed\n"
   ]
  },
  {
   "cell_type": "code",
   "metadata": {
    "ExecuteTime": {
     "end_time": "2024-05-22T15:09:25.070892Z",
     "start_time": "2024-05-22T15:09:24.806892Z"
    }
   },
   "source": [
    "import gymnasium as gym\n",
    "import numpy as np\n",
    "import random\n",
    "\n",
    "env = gym.make('FrozenLake-v1', is_slippery=False, render_mode=\"rgb_array\")\n",
    "state = env.reset()"
   ],
   "outputs": [],
   "execution_count": 3
  },
  {
   "cell_type": "markdown",
   "metadata": {},
   "source": [
    "If we print the state we'll get `0`. This is telling us which square we're in. Each square is labeled from `0` to `15` from left to right, top to bottom, like this:\n",
    "\n",
    "| | | | |\n",
    "|-|-|-|-|\n",
    "|0|1|2|3|\n",
    "|4|5|6|7|\n",
    "|8|9|10|11|\n",
    "|12|13|14|15|\n"
   ]
  },
  {
   "cell_type": "code",
   "metadata": {
    "ExecuteTime": {
     "end_time": "2024-05-22T15:09:26.098374Z",
     "start_time": "2024-05-22T15:09:26.093629Z"
    }
   },
   "source": [
    "print(state)"
   ],
   "outputs": [
    {
     "name": "stdout",
     "output_type": "stream",
     "text": [
      "(0, {'prob': 1})\n"
     ]
    }
   ],
   "execution_count": 4
  },
  {
   "cell_type": "markdown",
   "metadata": {},
   "source": [
    "We can make a simple print function to let us know whether it's game won, game over, or game on."
   ]
  },
  {
   "cell_type": "code",
   "metadata": {
    "ExecuteTime": {
     "end_time": "2024-05-22T15:09:27.734035Z",
     "start_time": "2024-05-22T15:09:27.393349Z"
    }
   },
   "source": [
    "import matplotlib.pyplot as plt\n",
    "\n",
    "\n",
    "def print_state(state, done):\n",
    "    statement = \"Still Alive!\"\n",
    "    if done:\n",
    "        statement = \"Cocoa Time!\" if state == 15 else \"Game Over!\"\n",
    "    print(state, \"-\", statement)\n",
    "    image_render = env.render()\n",
    "    plt.imshow(image_render)"
   ],
   "outputs": [],
   "execution_count": 5
  },
  {
   "cell_type": "markdown",
   "metadata": {},
   "source": [
    "We can control the gumdrop ourselves with the `step` method. Run the below cell over and over again trying to move from the starting position to the goal. Good luck!"
   ]
  },
  {
   "cell_type": "code",
   "metadata": {
    "ExecuteTime": {
     "end_time": "2024-05-22T15:09:29.251977Z",
     "start_time": "2024-05-22T15:09:28.866990Z"
    }
   },
   "source": [
    "#0 left\n",
    "#1 down\n",
    "#2 right\n",
    "#3 up\n",
    "\n",
    "# Uncomment to reset the game\n",
    "env.reset()\n",
    "action = 2  # Change me, please!\n",
    "state, _, done, _, _ = env.step(action)\n",
    "env.render()\n",
    "print_state(state, done)"
   ],
   "outputs": [
    {
     "name": "stdout",
     "output_type": "stream",
     "text": [
      "1 - Still Alive!\n"
     ]
    },
    {
     "name": "stderr",
     "output_type": "stream",
     "text": [
      "error: XDG_RUNTIME_DIR not set in the environment.\n"
     ]
    },
    {
     "data": {
      "text/plain": [
       "<Figure size 640x480 with 1 Axes>"
      ],
      "image/png": "[encoded data removed]"
     },
     "metadata": {},
     "output_type": "display_data"
    }
   ],
   "execution_count": 6
  },
  {
   "cell_type": "markdown",
   "metadata": {},
   "source": [
    "Were you able to reach the hot chocolate? If so, great job! There are multiple paths through the maze. One solution is `[1, 1, 2, 2, 1, 2]`. Let's loop through our actions in order to get used to interacting with the environment programmatically."
   ]
  },
  {
   "cell_type": "code",
   "metadata": {
    "ExecuteTime": {
     "end_time": "2024-05-22T15:09:30.606865Z",
     "start_time": "2024-05-22T15:09:30.275545Z"
    }
   },
   "source": [
    "def play_game(actions):\n",
    "    state = env.reset()\n",
    "    step = 0\n",
    "    done = False\n",
    "\n",
    "    while not done and step < len(actions):\n",
    "        action = actions[step]\n",
    "        state, _, done, _, _ = env.step(action)\n",
    "        env.render()\n",
    "        step += 1\n",
    "        print_state(state, done)\n",
    "\n",
    "\n",
    "actions = [1, 1, 2, 2, 1, 2]  # Replace with your favorite path.\n",
    "play_game(actions)"
   ],
   "outputs": [
    {
     "name": "stdout",
     "output_type": "stream",
     "text": [
      "4 - Still Alive!\n",
      "8 - Still Alive!\n",
      "9 - Still Alive!\n",
      "10 - Still Alive!\n",
      "14 - Still Alive!\n",
      "15 - Cocoa Time!\n"
     ]
    },
    {
     "data": {
      "text/plain": [
       "<Figure size 640x480 with 1 Axes>"
      ],
      "image/png": "[encoded data removed]"
     },
     "metadata": {},
     "output_type": "display_data"
    }
   ],
   "execution_count": 7
  },
  {
   "cell_type": "markdown",
   "metadata": {},
   "source": [
    "Nice, so we know how to get through the maze, but how do we teach that to the gumdrop? It's just some bytes in an android phone. It doesn't have our human insight.\n",
    "\n",
    "We could give it our list of actions directly, but then it would be copying us and not really learning. This was a tricky one to the mathematicians and computer scientists originally trying to solve this problem. How do we teach a machine to do this without human insight?\n",
    "\n",
    "## Value Iteration\n",
    "\n",
    "Let's turn the clock back on our time machines to 1957 to meet Mr. [Richard Bellman](https://en.wikipedia.org/wiki/Richard_E._Bellman). Bellman started his academic career in mathematics, but due to World War II, left his postgraduate studies at John Hopkins to teach electronics as part of the war effort (as chronicled by J. J. O'Connor and E. F. Robertson [here](https://www-history.mcs.st-andrews.ac.uk/Biographies/Bellman.html)). When the war was over, and it came time for him to focus on his next area of research, he became fascinated with [Dynamic Programming](https://en.wikipedia.org/wiki/Dynamic_programming): the idea of breaking a problem down into sub-problems and using recursion to solve the larger problem.\n",
    "\n",
    "Eventually, his research landed him on [Markov Decision Processes](https://en.wikipedia.org/wiki/Markov_decision_process). These processes are a graphical way of representing how to make a decision based on a current state. States are connected to other states with positive and negative rewards that can be picked up along the way.\n",
    "\n",
    "Sound familiar at all? Perhaps our Frozen Lake?\n",
    "\n",
    "In the lake case, each cell is a state. The `H`s and the `G` are a special type of state called a \"Terminal State\", meaning they can be entered, but they have no leaving connections. What of rewards? Let's say the value of losing our life is the negative opposite of getting to the goal and staying alive. Thus, we can assign the reward of entering a death hole as -1, and the reward of escaping as +1.\n",
    "\n",
    "Bellman's first breakthrough with this type of problem is now known as Value Iteration ([his original paper](http://www.iumj.indiana.edu/IUMJ/FULLTEXT/1957/6/56038)). He introduced a variable, gamma (γ), to represent discounted future rewards. He also introduced a function of policy (π) that takes a state (s), and outputs corresponding suggested action (a). The goal is to find the value of a state (V), given the rewards that occur when following an action in a particular state (R).\n",
    "\n",
    "Gamma, the discount, is the key ingredient here. If my time steps were in days, and my gamma was .9, `$100` would be worth `$100` to me today, `$90` tomorrow, `$81` the day after, and so on. Putting this all together, we get the Bellman Equation\n",
    "\n",
    "<img src=\"images/bellman_equation.jpg\" width=\"500\">\n",
    "\n",
    "source: [Wikipedia](https://en.wikipedia.org/wiki/Bellman_equation)\n",
    "\n",
    "In other words, the value of our current state, `current_values`, is equal to the discount times the value of the next state, `next_values`, given the policy the agent will follow. For now, we'll have our agent assume a greedy policy: it will move towards the state with the highest calculated value. If you're wondering what P is, don't worry, we'll get to that later.\n",
    "\n",
    "Let's program it out and see it in action! We'll set up an array representing the lake with -1 as the holes, and 1 as the goal. Then, we'll set up an array of zeros to start our iteration."
   ]
  },
  {
   "cell_type": "code",
   "metadata": {
    "ExecuteTime": {
     "end_time": "2024-05-22T15:09:31.752539Z",
     "start_time": "2024-05-22T15:09:31.747704Z"
    }
   },
   "source": [
    "LAKE = np.array([[0, 0, 0, 0],\n",
    "                 [0, -1, 0, -1],\n",
    "                 [0, 0, 0, -1],\n",
    "                 [-1, 0, 0, 1]])\n",
    "LAKE_WIDTH = len(LAKE[0])\n",
    "LAKE_HEIGHT = len(LAKE)\n",
    "\n",
    "DISCOUNT = .9  # Change me to be a value between 0 and 1.\n",
    "current_values = np.zeros_like(LAKE)"
   ],
   "outputs": [],
   "execution_count": 8
  },
  {
   "cell_type": "markdown",
   "metadata": {},
   "source": [
    "The Gym environment class has a handy property for finding the number of states in an environment called `observation_space`. In our case, there a 16 integer states, so it will label it as \"Discrete\". Similarly, `action_space` will tell us how many actions are available to the agent.\n",
    "\n",
    "Let's take advantage of these to make our code portable between different lakes sizes."
   ]
  },
  {
   "cell_type": "code",
   "metadata": {
    "ExecuteTime": {
     "end_time": "2024-05-22T15:09:32.848633Z",
     "start_time": "2024-05-22T15:09:32.843930Z"
    }
   },
   "source": [
    "print(\"env.observation_space -\", env.observation_space)\n",
    "print(\"env.observation_space.n -\", env.observation_space.n)\n",
    "print(\"env.action_space -\", env.action_space)\n",
    "print(\"env.action_space.n -\", env.action_space.n)\n",
    "\n",
    "STATE_SPACE = env.observation_space.n\n",
    "ACTION_SPACE = env.action_space.n\n",
    "STATE_RANGE = range(STATE_SPACE)\n",
    "ACTION_RANGE = range(ACTION_SPACE)"
   ],
   "outputs": [
    {
     "name": "stdout",
     "output_type": "stream",
     "text": [
      "env.observation_space - Discrete(16)\n",
      "env.observation_space.n - 16\n",
      "env.action_space - Discrete(4)\n",
      "env.action_space.n - 4\n"
     ]
    }
   ],
   "execution_count": 9
  },
  {
   "cell_type": "markdown",
   "metadata": {},
   "source": [
    "We'll need some sort of function to figure out what the best neighboring cell is. The below function take's a cell of the lake, and looks at the current value mapping (to be called with `current_values`, and see's what the value of the adjacent state is corresponding to the given `action`."
   ]
  },
  {
   "cell_type": "code",
   "metadata": {
    "ExecuteTime": {
     "end_time": "2024-05-22T15:09:33.953412Z",
     "start_time": "2024-05-22T15:09:33.947760Z"
    }
   },
   "source": [
    "def get_neighbor_value(state_x, state_y, values, action):\n",
    "    \"\"\"Returns the value of a state's neighbor.\n",
    "    \n",
    "    Args:\n",
    "        state_x (int): The state's horizontal position, 0 is the lake's left.\n",
    "        state_y (int): The state's vertical position, 0 is the lake's top.\n",
    "        values (float array): The current iteration's state values.\n",
    "        policy (int): Which action to check the value for.\n",
    "        \n",
    "    Returns:\n",
    "        The corresponding action's value.\n",
    "    \"\"\"\n",
    "    left = [state_y, state_x - 1]\n",
    "    down = [state_y + 1, state_x]\n",
    "    right = [state_y, state_x + 1]\n",
    "    up = [state_y - 1, state_x]\n",
    "    actions = [left, down, right, up]\n",
    "\n",
    "    direction = actions[action]\n",
    "    check_x = direction[1]\n",
    "    check_y = direction[0]\n",
    "\n",
    "    is_boulder = check_y < 0 or check_y >= LAKE_HEIGHT \\\n",
    "                 or check_x < 0 or check_x >= LAKE_WIDTH\n",
    "\n",
    "    value = values[state_y, state_x]\n",
    "    if not is_boulder:\n",
    "        value = values[check_y, check_x]\n",
    "\n",
    "    return value"
   ],
   "outputs": [],
   "execution_count": 10
  },
  {
   "metadata": {
    "ExecuteTime": {
     "end_time": "2024-05-22T15:09:35.317274Z",
     "start_time": "2024-05-22T15:09:35.312699Z"
    }
   },
   "cell_type": "code",
   "source": [
    "def get_next_state(curent_state, action):\n",
    "    state_y, state_x = curent_state\n",
    "    next_state = curent_state\n",
    "    if action == 0:\n",
    "        next_state = [state_y, state_x - 1]\n",
    "    if action == 1:\n",
    "        next_state = [state_y + 1, state_x]\n",
    "    if action == 2:\n",
    "        next_state = [state_y, state_x + 1]\n",
    "    if action == 3:\n",
    "        next_state = [state_y - 1, state_x]\n",
    "    if next_state[0] < 0 or next_state[0] >= LAKE_HEIGHT or next_state[1] < 0 or next_state[1] >= LAKE_WIDTH:\n",
    "        next_state = [state_y, state_x]\n",
    "    return next_state"
   ],
   "outputs": [],
   "execution_count": 11
  },
  {
   "metadata": {
    "ExecuteTime": {
     "end_time": "2024-05-22T15:09:36.675844Z",
     "start_time": "2024-05-22T15:09:36.672088Z"
    }
   },
   "cell_type": "code",
   "source": [
    "def get_next_state_value(next_state, values):\n",
    "    next_value = values[next_state[0], next_state[1]]\n",
    "    return next_value"
   ],
   "outputs": [],
   "execution_count": 12
  },
  {
   "cell_type": "markdown",
   "metadata": {},
   "source": [
    "But this doesn't find the best action, and the gumdrop is going to need that if it wants to greedily get off the lake. The `get_max_neighbor` function we've defined below takes a number corresponding to a cell as `state_number` and the same value mapping as `get_neighbor_value`."
   ]
  },
  {
   "cell_type": "code",
   "metadata": {
    "ExecuteTime": {
     "end_time": "2024-05-22T15:09:37.969388Z",
     "start_time": "2024-05-22T15:09:37.964191Z"
    }
   },
   "source": [
    "def get_state_coordinates(state_number):\n",
    "    state_x = state_number % LAKE_WIDTH\n",
    "    state_y = state_number // LAKE_HEIGHT\n",
    "    return state_x, state_y\n",
    "\n",
    "\n",
    "def get_max_neighbor(state_number, values):\n",
    "    \"\"\"Finds the maximum valued neighbor for a given state.\n",
    "    \n",
    "    Args:\n",
    "        state_number (int): the state to find the max neighbor for\n",
    "        state_values (float array): the respective value of each state for\n",
    "            each cell of the lake.\n",
    "    \n",
    "    Returns:\n",
    "        max_value (float): the value of the maximum neighbor.\n",
    "        policy (int): the action to take to move towards the maximum neighbor.\n",
    "    \"\"\"\n",
    "    state_x, state_y = get_state_coordinates(state_number)\n",
    "\n",
    "    # No policy or best value yet\n",
    "    best_policy = -1\n",
    "    max_value = -np.inf\n",
    "\n",
    "    # If the cell has something other than 0, it's a terminal state.\n",
    "    if LAKE[state_y, state_x]:\n",
    "        return LAKE[state_y, state_x], best_policy\n",
    "\n",
    "    for action in ACTION_RANGE:\n",
    "        neighbor_value = get_neighbor_value(state_x, state_y, values, action)\n",
    "        if neighbor_value > max_value:\n",
    "            max_value = neighbor_value\n",
    "            best_policy = action\n",
    "\n",
    "    return max_value, best_policy"
   ],
   "outputs": [],
   "execution_count": 13
  },
  {
   "metadata": {
    "ExecuteTime": {
     "end_time": "2024-05-22T15:09:38.820349Z",
     "start_time": "2024-05-22T15:09:38.816458Z"
    }
   },
   "cell_type": "code",
   "source": [
    "def get_next_states_value(states_and_p, values):\n",
    "    total_value = 0\n",
    "    for state, p in states_and_p:\n",
    "        total_value += p * get_next_state_value(state, values)\n",
    "    return total_value"
   ],
   "outputs": [],
   "execution_count": 14
  },
  {
   "metadata": {
    "ExecuteTime": {
     "end_time": "2024-05-22T16:19:05.986875Z",
     "start_time": "2024-05-22T16:19:05.981653Z"
    }
   },
   "cell_type": "code",
   "source": [
    "\n",
    "def get_max_value_of_next_state(current_state, values):\n",
    "    best_action = -1\n",
    "    R_current_state = LAKE[current_state[0], current_state[1]]\n",
    "    max_value = 0\n",
    "    p_next_state = 1/3\n",
    "    if LAKE[current_state[0], current_state[1]]:\n",
    "        p_next_state = 0\n",
    "\n",
    "    for action in ACTION_RANGE:\n",
    "        next_action_states = [(get_next_state(current_state, action), p_next_state),\n",
    "                              (get_next_state(current_state, (action - 1) % ACTION_SPACE), p_next_state),\n",
    "                              (get_next_state(current_state, (action + 1) % ACTION_SPACE), p_next_state)]\n",
    "        next_action_value = get_next_states_value(next_action_states, values)\n",
    "        if next_action_value > max_value:\n",
    "            max_value = next_action_value\n",
    "            best_action = action\n",
    "    return R_current_state + max_value * DISCOUNT, best_action"
   ],
   "outputs": [],
   "execution_count": 170
  },
  {
   "cell_type": "markdown",
   "metadata": {},
   "source": [
    "Now, let's write our value iteration code. We'll write a function that comes out one step of the iteration by checking each state and finding its maximum neighbor. The values will be reshaped so that it's in the form of the lake, but the policy will stay as a list of ints. This way, when Gym returns a state, all we need to do is look at the corresponding index in the policy list to tell our agent where to go."
   ]
  },
  {
   "cell_type": "code",
   "metadata": {
    "ExecuteTime": {
     "end_time": "2024-05-22T16:19:06.463386Z",
     "start_time": "2024-05-22T16:19:06.458828Z"
    }
   },
   "source": [
    "def iterate_value(current_values):\n",
    "    \"\"\"Finds the future state values for an array of current states.\n",
    "    \n",
    "    Args:\n",
    "        current_values (int array): the value of current states.\n",
    "\n",
    "    Returns:\n",
    "        next_values (int array): The value of states based on future states.\n",
    "        next_policies (int array): The recommended action to take in a state.\n",
    "    \"\"\"\n",
    "    next_values = []\n",
    "    next_policies = []\n",
    "\n",
    "    for state in STATE_RANGE:\n",
    "        value, policy = get_max_neighbor(state, current_values)\n",
    "        next_values.append(value)\n",
    "        next_policies.append(policy)\n",
    "\n",
    "    next_values = np.array(next_values).reshape((LAKE_HEIGHT, LAKE_WIDTH))\n",
    "    return next_values, next_policies\n",
    "\n",
    "\n",
    "next_values, next_policies = iterate_value(current_values)"
   ],
   "outputs": [],
   "execution_count": 171
  },
  {
   "metadata": {
    "ExecuteTime": {
     "end_time": "2024-05-22T16:19:06.712462Z",
     "start_time": "2024-05-22T16:19:06.708146Z"
    }
   },
   "cell_type": "code",
   "source": [
    "def iterate_value_new(current_values):\n",
    "    next_values = []\n",
    "    next_policies = []\n",
    "\n",
    "    for state in STATE_RANGE:\n",
    "        state_x, state_y = get_state_coordinates(state)\n",
    "        max_value, next_action = get_max_value_of_next_state([state_y, state_x], current_values)\n",
    "        next_values.append(max_value)\n",
    "        next_policies.append(next_action)\n",
    "\n",
    "    next_values = np.array(next_values).reshape((LAKE_HEIGHT, LAKE_WIDTH))\n",
    "    return next_values, next_policies\n"
   ],
   "outputs": [],
   "execution_count": 172
  },
  {
   "metadata": {
    "ExecuteTime": {
     "end_time": "2024-05-22T16:19:06.927079Z",
     "start_time": "2024-05-22T16:19:06.922547Z"
    }
   },
   "cell_type": "code",
   "source": [
    "current_values_new = np.zeros_like(LAKE)\n",
    "next_values_new, next_policies_new = iterate_value_new(current_values_new)"
   ],
   "outputs": [],
   "execution_count": 173
  },
  {
   "cell_type": "markdown",
   "metadata": {},
   "source": [
    "This is what our values look like after one step. Right now, it just looks like the lake. That's because we started with an array of zeros for `current_values`, and the terminal states of the lake were loaded in."
   ]
  },
  {
   "cell_type": "code",
   "metadata": {
    "ExecuteTime": {
     "end_time": "2024-05-22T16:19:07.334890Z",
     "start_time": "2024-05-22T16:19:07.329658Z"
    }
   },
   "source": [
    "next_values\n",
    "next_values_new"
   ],
   "outputs": [
    {
     "data": {
      "text/plain": [
       "array([[ 0.,  0.,  0.,  0.],\n",
       "       [ 0., -1.,  0., -1.],\n",
       "       [ 0.,  0.,  0., -1.],\n",
       "       [-1.,  0.,  0.,  1.]])"
      ]
     },
     "execution_count": 174,
     "metadata": {},
     "output_type": "execute_result"
    }
   ],
   "execution_count": 174
  },
  {
   "cell_type": "markdown",
   "metadata": {},
   "source": [
    "And this is what our policy looks like reshaped into the form of the lake. The `-1`'s are terminal states. Right now, the agent will move left in any non-terminal state, because it sees all of those states as equal. Remember, if the gumdrop is along the leftmost side of the lake, and tries to move left, it will slip on a boulder and return to the same position."
   ]
  },
  {
   "cell_type": "code",
   "metadata": {
    "ExecuteTime": {
     "end_time": "2024-05-22T16:19:08.064520Z",
     "start_time": "2024-05-22T16:19:08.057861Z"
    }
   },
   "source": [
    "np.array(next_policies).reshape((LAKE_HEIGHT, LAKE_WIDTH))\n",
    "np.array(next_policies_new).reshape((LAKE_HEIGHT, LAKE_WIDTH))"
   ],
   "outputs": [
    {
     "data": {
      "text/plain": [
       "array([[-1, -1, -1, -1],\n",
       "       [-1, -1, -1, -1],\n",
       "       [-1, -1, -1, -1],\n",
       "       [-1, -1, -1, -1]])"
      ]
     },
     "execution_count": 175,
     "metadata": {},
     "output_type": "execute_result"
    }
   ],
   "execution_count": 175
  },
  {
   "cell_type": "markdown",
   "metadata": {},
   "source": [
    "There's one last step to apply the Bellman Equation, the `discount`! We'll multiply our next states by the `discount` and set that to our `current_values`. One loop done!"
   ]
  },
  {
   "cell_type": "code",
   "metadata": {
    "ExecuteTime": {
     "end_time": "2024-05-22T16:19:08.913868Z",
     "start_time": "2024-05-22T16:19:08.907502Z"
    }
   },
   "source": [
    "current_values = DISCOUNT * next_values\n",
    "current_values"
   ],
   "outputs": [
    {
     "data": {
      "text/plain": [
       "array([[ 0.4782969,  0.531441 ,  0.59049  ,  0.531441 ],\n",
       "       [ 0.531441 , -0.9      ,  0.6561   , -0.9      ],\n",
       "       [ 0.59049  ,  0.6561   ,  0.729    , -0.9      ],\n",
       "       [-0.9      ,  0.729    ,  0.81     ,  0.9      ]])"
      ]
     },
     "execution_count": 176,
     "metadata": {},
     "output_type": "execute_result"
    }
   ],
   "execution_count": 176
  },
  {
   "cell_type": "markdown",
   "metadata": {},
   "source": [
    "Run the below cell over and over again to see how our values change with each iteration. It should be complete after six iterations when the values no longer change. The policy will also change as the values are updated."
   ]
  },
  {
   "cell_type": "code",
   "metadata": {
    "ExecuteTime": {
     "end_time": "2024-05-22T16:19:10.221367Z",
     "start_time": "2024-05-22T16:19:10.177027Z"
    }
   },
   "source": [
    " current_values = np.zeros_like(LAKE)\n",
    "current_values_new = np.zeros_like(LAKE)\n",
    "for i in range(50):\n",
    "    next_values, next_policies = iterate_value(current_values)\n",
    "    next_values_new, next_policies_new = iterate_value_new(current_values_new)\n",
    "    print(\"---------------------------------------------------\")\n",
    "    print(\"Value at loop:\", i)\n",
    "    print(next_values)\n",
    "    print(\"Policy at loop:\", i)\n",
    "    print(np.array(next_policies).reshape((4, 4)))\n",
    "    print(\"++++++++++++++++++++++++++++++++++++++++++++++++++++\")\n",
    "    print(\"Value new at loop:\", i)\n",
    "    print(next_values_new)\n",
    "    print(\"Policy new at loop:\", i)\n",
    "    print(np.array(next_policies_new).reshape((4, 4)))\n",
    "    current_values = DISCOUNT * next_values\n",
    "    current_values_new = next_values_new"
   ],
   "outputs": [
    {
     "name": "stdout",
     "output_type": "stream",
     "text": [
      "---------------------------------------------------\n",
      "Value at loop: 0\n",
      "[[ 0  0  0  0]\n",
      " [ 0 -1  0 -1]\n",
      " [ 0  0  0 -1]\n",
      " [-1  0  0  1]]\n",
      "Policy at loop: 0\n",
      "[[ 0  0  0  0]\n",
      " [ 0 -1  0 -1]\n",
      " [ 0  0  0 -1]\n",
      " [-1  0  0 -1]]\n",
      "++++++++++++++++++++++++++++++++++++++++++++++++++++\n",
      "Value new at loop: 0\n",
      "[[ 0.  0.  0.  0.]\n",
      " [ 0. -1.  0. -1.]\n",
      " [ 0.  0.  0. -1.]\n",
      " [-1.  0.  0.  1.]]\n",
      "Policy new at loop: 0\n",
      "[[-1 -1 -1 -1]\n",
      " [-1 -1 -1 -1]\n",
      " [-1 -1 -1 -1]\n",
      " [-1 -1 -1 -1]]\n",
      "---------------------------------------------------\n",
      "Value at loop: 1\n",
      "[[ 0.   0.   0.   0. ]\n",
      " [ 0.  -1.   0.  -1. ]\n",
      " [ 0.   0.   0.  -1. ]\n",
      " [-1.   0.   0.9  1. ]]\n",
      "Policy at loop: 1\n",
      "[[ 0  0  0  0]\n",
      " [ 0 -1  1 -1]\n",
      " [ 0  0  0 -1]\n",
      " [-1  1  2 -1]]\n",
      "++++++++++++++++++++++++++++++++++++++++++++++++++++\n",
      "Value new at loop: 1\n",
      "[[ 0.   0.   0.   0. ]\n",
      " [ 0.  -1.   0.  -1. ]\n",
      " [ 0.   0.   0.  -1. ]\n",
      " [-1.   0.   0.3  1. ]]\n",
      "Policy new at loop: 1\n",
      "[[-1 -1 -1 -1]\n",
      " [-1 -1 -1 -1]\n",
      " [-1 -1 -1 -1]\n",
      " [-1 -1  1 -1]]\n",
      "---------------------------------------------------\n",
      "Value at loop: 2\n",
      "[[ 0.    0.    0.    0.  ]\n",
      " [ 0.   -1.    0.   -1.  ]\n",
      " [ 0.    0.    0.81 -1.  ]\n",
      " [-1.    0.81  0.9   1.  ]]\n",
      "Policy at loop: 2\n",
      "[[ 0  0  0  0]\n",
      " [ 0 -1  1 -1]\n",
      " [ 0  0  1 -1]\n",
      " [-1  2  2 -1]]\n",
      "++++++++++++++++++++++++++++++++++++++++++++++++++++\n",
      "Value new at loop: 2\n",
      "[[ 0.    0.    0.    0.  ]\n",
      " [ 0.   -1.    0.   -1.  ]\n",
      " [ 0.    0.    0.09 -1.  ]\n",
      " [-1.    0.09  0.39  1.  ]]\n",
      "Policy new at loop: 2\n",
      "[[-1 -1 -1 -1]\n",
      " [-1 -1 -1 -1]\n",
      " [-1 -1  0 -1]\n",
      " [-1  2  1 -1]]\n",
      "---------------------------------------------------\n",
      "Value at loop: 3\n",
      "[[ 0.     0.     0.     0.   ]\n",
      " [ 0.    -1.     0.729 -1.   ]\n",
      " [ 0.     0.729  0.81  -1.   ]\n",
      " [-1.     0.81   0.9    1.   ]]\n",
      "Policy at loop: 3\n",
      "[[ 0  0  0  0]\n",
      " [ 0 -1  1 -1]\n",
      " [ 0  1  1 -1]\n",
      " [-1  2  2 -1]]\n",
      "++++++++++++++++++++++++++++++++++++++++++++++++++++\n",
      "Value new at loop: 3\n",
      "[[ 0.     0.     0.     0.   ]\n",
      " [ 0.    -1.     0.    -1.   ]\n",
      " [ 0.     0.054  0.117 -1.   ]\n",
      " [-1.     0.144  0.444  1.   ]]\n",
      "Policy new at loop: 3\n",
      "[[-1 -1 -1 -1]\n",
      " [-1 -1 -1 -1]\n",
      " [-1  1  0 -1]\n",
      " [-1  2  1 -1]]\n",
      "---------------------------------------------------\n",
      "Value at loop: 4\n",
      "[[ 0.      0.      0.6561  0.    ]\n",
      " [ 0.     -1.      0.729  -1.    ]\n",
      " [ 0.6561  0.729   0.81   -1.    ]\n",
      " [-1.      0.81    0.9     1.    ]]\n",
      "Policy at loop: 4\n",
      "[[ 0  0  1  0]\n",
      " [ 0 -1  1 -1]\n",
      " [ 2  1  1 -1]\n",
      " [-1  2  2 -1]]\n",
      "++++++++++++++++++++++++++++++++++++++++++++++++++++\n",
      "Value new at loop: 4\n",
      "[[ 0.      0.      0.      0.    ]\n",
      " [ 0.     -1.      0.     -1.    ]\n",
      " [ 0.0162  0.0783  0.1494 -1.    ]\n",
      " [-1.      0.1926  0.4764  1.    ]]\n",
      "Policy new at loop: 4\n",
      "[[-1 -1 -1 -1]\n",
      " [-1 -1 -1 -1]\n",
      " [ 3  1  0 -1]\n",
      " [-1  2  1 -1]]\n",
      "---------------------------------------------------\n",
      "Value at loop: 5\n",
      "[[ 0.       0.59049  0.6561   0.59049]\n",
      " [ 0.59049 -1.       0.729   -1.     ]\n",
      " [ 0.6561   0.729    0.81    -1.     ]\n",
      " [-1.       0.81     0.9      1.     ]]\n",
      "Policy at loop: 5\n",
      "[[ 0  2  1  0]\n",
      " [ 1 -1  1 -1]\n",
      " [ 2  1  1 -1]\n",
      " [-1  2  2 -1]]\n",
      "++++++++++++++++++++++++++++++++++++++++++++++++++++\n",
      "Value new at loop: 5\n",
      "[[ 0.       0.       0.       0.     ]\n",
      " [ 0.00486 -1.       0.      -1.     ]\n",
      " [ 0.02835  0.10746  0.16641 -1.     ]\n",
      " [-1.       0.22419  0.5007   1.     ]]\n",
      "Policy new at loop: 5\n",
      "[[-1 -1 -1 -1]\n",
      " [ 0 -1 -1 -1]\n",
      " [ 3  1  0 -1]\n",
      " [-1  2  1 -1]]\n",
      "---------------------------------------------------\n",
      "Value at loop: 6\n",
      "[[ 0.531441  0.59049   0.6561    0.59049 ]\n",
      " [ 0.59049  -1.        0.729    -1.      ]\n",
      " [ 0.6561    0.729     0.81     -1.      ]\n",
      " [-1.        0.81      0.9       1.      ]]\n",
      "Policy at loop: 6\n",
      "[[ 1  2  1  0]\n",
      " [ 1 -1  1 -1]\n",
      " [ 2  1  1 -1]\n",
      " [-1  2  2 -1]]\n",
      "++++++++++++++++++++++++++++++++++++++++++++++++++++\n",
      "Value new at loop: 6\n",
      "[[ 0.001458  0.        0.        0.      ]\n",
      " [ 0.009963 -1.        0.       -1.      ]\n",
      " [ 0.042201  0.125685  0.182448 -1.      ]\n",
      " [-1.        0.249705  0.517467  1.      ]]\n",
      "Policy new at loop: 6\n",
      "[[ 0 -1 -1 -1]\n",
      " [ 0 -1 -1 -1]\n",
      " [ 3  1  0 -1]\n",
      " [-1  2  1 -1]]\n",
      "---------------------------------------------------\n",
      "Value at loop: 7\n",
      "[[ 0.531441  0.59049   0.6561    0.59049 ]\n",
      " [ 0.59049  -1.        0.729    -1.      ]\n",
      " [ 0.6561    0.729     0.81     -1.      ]\n",
      " [-1.        0.81      0.9       1.      ]]\n",
      "Policy at loop: 7\n",
      "[[ 1  2  1  0]\n",
      " [ 1 -1  1 -1]\n",
      " [ 2  1  1 -1]\n",
      " [-1  2  2 -1]]\n",
      "++++++++++++++++++++++++++++++++++++++++++++++++++++\n",
      "Value new at loop: 7\n",
      "[[ 3.863700e-03  4.374000e-04  0.000000e+00  0.000000e+00]\n",
      " [ 1.608660e-02 -1.000000e+00  0.000000e+00 -1.000000e+00]\n",
      " [ 5.335470e-02  1.423062e-01  1.929456e-01 -1.000000e+00]\n",
      " [-1.000000e+00  2.678571e-01  5.301516e-01  1.000000e+00]]\n",
      "Policy new at loop: 7\n",
      "[[ 0  3 -1 -1]\n",
      " [ 0 -1 -1 -1]\n",
      " [ 3  1  0 -1]\n",
      " [-1  2  1 -1]]\n",
      "---------------------------------------------------\n",
      "Value at loop: 8\n",
      "[[ 0.531441  0.59049   0.6561    0.59049 ]\n",
      " [ 0.59049  -1.        0.729    -1.      ]\n",
      " [ 0.6561    0.729     0.81     -1.      ]\n",
      " [-1.        0.81      0.9       1.      ]]\n",
      "Policy at loop: 8\n",
      "[[ 1  2  1  0]\n",
      " [ 1 -1  1 -1]\n",
      " [ 2  1  1 -1]\n",
      " [-1  2  2 -1]]\n",
      "++++++++++++++++++++++++++++++++++++++++++++++++++++\n",
      "Value new at loop: 8\n",
      "[[ 7.1442000e-03  1.2903300e-03  1.3122000e-04  0.0000000e+00]\n",
      " [ 2.1991500e-02 -1.0000000e+00  0.0000000e+00 -1.0000000e+00]\n",
      " [ 6.3524250e-02  1.5424722e-01  2.0173734e-01 -1.0000000e+00]\n",
      " [-1.0000000e+00  2.8209447e-01  5.3940261e-01  1.0000000e+00]]\n",
      "Policy new at loop: 8\n",
      "[[ 0  3  0 -1]\n",
      " [ 0 -1 -1 -1]\n",
      " [ 3  1  0 -1]\n",
      " [-1  2  1 -1]]\n",
      "---------------------------------------------------\n",
      "Value at loop: 9\n",
      "[[ 0.531441  0.59049   0.6561    0.59049 ]\n",
      " [ 0.59049  -1.        0.729    -1.      ]\n",
      " [ 0.6561    0.729     0.81     -1.      ]\n",
      " [-1.        0.81      0.9       1.      ]]\n",
      "Policy at loop: 9\n",
      "[[ 1  2  1  0]\n",
      " [ 1 -1  1 -1]\n",
      " [ 2  1  1 -1]\n",
      " [-1  2  2 -1]]\n",
      "++++++++++++++++++++++++++++++++++++++++++++++++++++\n",
      "Value new at loop: 9\n",
      "[[ 1.08839700e-02  2.56972500e-03  4.26465000e-04  3.93660000e-05]\n",
      " [ 2.77979850e-02 -1.00000000e+00  0.00000000e+00 -1.00000000e+00]\n",
      " [ 7.19288910e-02  1.64206818e-01  2.08094949e-01 -1.00000000e+00]\n",
      " [-1.00000000e+00  2.92723290e-01  5.46449124e-01  1.00000000e+00]]\n",
      "Policy new at loop: 9\n",
      "[[ 0  3  0  3]\n",
      " [ 0 -1 -1 -1]\n",
      " [ 3  1  0 -1]\n",
      " [-1  2  1 -1]]\n",
      "---------------------------------------------------\n",
      "Value at loop: 10\n",
      "[[ 0.531441  0.59049   0.6561    0.59049 ]\n",
      " [ 0.59049  -1.        0.729    -1.      ]\n",
      " [ 0.6561    0.729     0.81     -1.      ]\n",
      " [-1.        0.81      0.9       1.      ]]\n",
      "Policy at loop: 10\n",
      "[[ 1  2  1  0]\n",
      " [ 1 -1  1 -1]\n",
      " [ 2  1  1 -1]\n",
      " [-1  2  2 -1]]\n",
      "++++++++++++++++++++++++++++++++++++++++++++++++++++\n",
      "Value new at loop: 10\n",
      "[[ 1.48697775e-02  4.16404800e-03  9.10666800e-04  1.51559100e-04]\n",
      " [ 3.31832538e-02 -1.00000000e+00  0.00000000e+00 -1.00000000e+00]\n",
      " [ 7.91801082e-02  1.71824139e-01  2.13196783e-01 -1.00000000e+00]\n",
      " [-1.00000000e+00  3.01013770e-01  5.51751724e-01  1.00000000e+00]]\n",
      "Policy new at loop: 10\n",
      "[[ 0  3  3  3]\n",
      " [ 0 -1 -1 -1]\n",
      " [ 3  1  0 -1]\n",
      " [-1  2  1 -1]]\n",
      "---------------------------------------------------\n",
      "Value at loop: 11\n",
      "[[ 0.531441  0.59049   0.6561    0.59049 ]\n",
      " [ 0.59049  -1.        0.729    -1.      ]\n",
      " [ 0.6561    0.729     0.81     -1.      ]\n",
      " [-1.        0.81      0.9       1.      ]]\n",
      "Policy at loop: 11\n",
      "[[ 1  2  1  0]\n",
      " [ 1 -1  1 -1]\n",
      " [ 2  1  1 -1]\n",
      " [-1  2  2 -1]]\n",
      "++++++++++++++++++++++++++++++++++++++++++++++++++++\n",
      "Value new at loop: 11\n",
      "[[ 1.88768426e-02  5.98334769e-03  1.56788217e-03  3.64135500e-04]\n",
      " [ 3.81699418e-02 -1.00000000e+00  0.00000000e+00 -1.00000000e+00]\n",
      " [ 8.52562503e-02  1.78017198e-01  2.17072759e-01 -1.00000000e+00]\n",
      " [-1.00000000e+00  3.07376890e-01  5.55829648e-01  1.00000000e+00]]\n",
      "Policy new at loop: 11\n",
      "[[ 0  3  3  3]\n",
      " [ 0 -1 -1 -1]\n",
      " [ 3  1  0 -1]\n",
      " [-1  2  1 -1]]\n",
      "---------------------------------------------------\n",
      "Value at loop: 12\n",
      "[[ 0.531441  0.59049   0.6561    0.59049 ]\n",
      " [ 0.59049  -1.        0.729    -1.      ]\n",
      " [ 0.6561    0.729     0.81     -1.      ]\n",
      " [-1.        0.81      0.9       1.      ]]\n",
      "Policy at loop: 12\n",
      "[[ 1  2  1  0]\n",
      " [ 1 -1  1 -1]\n",
      " [ 2  1  1 -1]\n",
      " [-1  2  2 -1]]\n",
      "++++++++++++++++++++++++++++++++++++++++++++++++++++\n",
      "Value new at loop: 12\n",
      "[[ 2.27770881e-02  7.92842175e-03  2.37460961e-03  6.88845951e-04]\n",
      " [ 4.26909104e-02 -1.00000000e+00  0.00000000e+00 -1.00000000e+00]\n",
      " [ 9.04330171e-02  1.82911770e-01  2.20154054e-01 -1.00000000e+00]\n",
      " [-1.00000000e+00  3.12367121e-01  5.58961961e-01  1.00000000e+00]]\n",
      "Policy new at loop: 12\n",
      "[[ 0  3  3  3]\n",
      " [ 0 -1 -1 -1]\n",
      " [ 3  1  0 -1]\n",
      " [-1  2  1 -1]]\n",
      "---------------------------------------------------\n",
      "Value at loop: 13\n",
      "[[ 0.531441  0.59049   0.6561    0.59049 ]\n",
      " [ 0.59049  -1.        0.729    -1.      ]\n",
      " [ 0.6561    0.729     0.81     -1.      ]\n",
      " [-1.        0.81      0.9       1.      ]]\n",
      "Policy at loop: 13\n",
      "[[ 1  2  1  0]\n",
      " [ 1 -1  1 -1]\n",
      " [ 2  1  1 -1]\n",
      " [-1  2  2 -1]]\n",
      "++++++++++++++++++++++++++++++++++++++++++++++++++++\n",
      "Value new at loop: 13\n",
      "[[ 0.02647353  0.00992404  0.00329756  0.00112569]\n",
      " [ 0.0467703  -1.          0.         -1.        ]\n",
      " [ 0.09481071  0.18688626  0.22256212 -1.        ]\n",
      " [-1.          0.31627226  0.56139872  1.        ]]\n",
      "Policy new at loop: 13\n",
      "[[ 0  3  3  3]\n",
      " [ 0 -1 -1 -1]\n",
      " [ 3  1  0 -1]\n",
      " [-1  2  1 -1]]\n",
      "---------------------------------------------------\n",
      "Value at loop: 14\n",
      "[[ 0.531441  0.59049   0.6561    0.59049 ]\n",
      " [ 0.59049  -1.        0.729    -1.      ]\n",
      " [ 0.6561    0.729     0.81     -1.      ]\n",
      " [-1.        0.81      0.9       1.      ]]\n",
      "Policy at loop: 14\n",
      "[[ 1  2  1  0]\n",
      " [ 1 -1  1 -1]\n",
      " [ 2  1  1 -1]\n",
      " [-1  2  2 -1]]\n",
      "++++++++++++++++++++++++++++++++++++++++++++++++++++\n",
      "Value new at loop: 14\n",
      "[[ 0.02991521  0.01190854  0.00430419  0.00166468]\n",
      " [ 0.05041636 -1.          0.         -1.        ]\n",
      " [ 0.09854018  0.19009353  0.22448549 -1.        ]\n",
      " [-1.          0.31936717  0.56330129  1.        ]]\n",
      "Policy new at loop: 14\n",
      "[[ 0  3  3  3]\n",
      " [ 0 -1 -1 -1]\n",
      " [ 3  1  0 -1]\n",
      " [-1  2  1 -1]]\n",
      "---------------------------------------------------\n",
      "Value at loop: 15\n",
      "[[ 0.531441  0.59049   0.6561    0.59049 ]\n",
      " [ 0.59049  -1.        0.729    -1.      ]\n",
      " [ 0.6561    0.729     0.81     -1.      ]\n",
      " [-1.        0.81      0.9       1.      ]]\n",
      "Policy at loop: 15\n",
      "[[ 1  2  1  0]\n",
      " [ 1 -1  1 -1]\n",
      " [ 2  1  1 -1]\n",
      " [-1  2  2 -1]]\n",
      "++++++++++++++++++++++++++++++++++++++++++++++++++++\n",
      "Value new at loop: 15\n",
      "[[ 0.03307403  0.01383838  0.00536322  0.00229007]\n",
      " [ 0.05366153 -1.          0.         -1.        ]\n",
      " [ 0.10171502  0.19271785  0.22601845 -1.        ]\n",
      " [-1.          0.3218286   0.56480054  1.        ]]\n",
      "Policy new at loop: 15\n",
      "[[ 0  3  3  3]\n",
      " [ 0 -1 -1 -1]\n",
      " [ 3  1  0 -1]\n",
      " [-1  2  1 -1]]\n",
      "---------------------------------------------------\n",
      "Value at loop: 16\n",
      "[[ 0.531441  0.59049   0.6561    0.59049 ]\n",
      " [ 0.59049  -1.        0.729    -1.      ]\n",
      " [ 0.6561    0.729     0.81     -1.      ]\n",
      " [-1.        0.81      0.9       1.      ]]\n",
      "Policy at loop: 16\n",
      "[[ 1  2  1  0]\n",
      " [ 1 -1  1 -1]\n",
      " [ 2  1  1 -1]\n",
      " [-1  2  2 -1]]\n",
      "++++++++++++++++++++++++++++++++++++++++++++++++++++\n",
      "Value new at loop: 16\n",
      "[[ 0.03594288  0.01568269  0.0064475   0.00298301]\n",
      " [ 0.05653517 -1.          0.         -1.        ]\n",
      " [ 0.10442832  0.19486862  0.22725552 -1.        ]\n",
      " [-1.          0.3238041   0.56598874  1.        ]]\n",
      "Policy new at loop: 16\n",
      "[[ 0  3  3  3]\n",
      " [ 0 -1 -1 -1]\n",
      " [ 3  1  0 -1]\n",
      " [-1  2  1 -1]]\n",
      "---------------------------------------------------\n",
      "Value at loop: 17\n",
      "[[ 0.531441  0.59049   0.6561    0.59049 ]\n",
      " [ 0.59049  -1.        0.729    -1.      ]\n",
      " [ 0.6561    0.729     0.81     -1.      ]\n",
      " [-1.        0.81      0.9       1.      ]]\n",
      "Policy at loop: 17\n",
      "[[ 1  2  1  0]\n",
      " [ 1 -1  1 -1]\n",
      " [ 2  1  1 -1]\n",
      " [-1  2  2 -1]]\n",
      "++++++++++++++++++++++++++++++++++++++++++++++++++++\n",
      "Value new at loop: 17\n",
      "[[ 0.03852628  0.01742192  0.00753396  0.00372405]\n",
      " [ 0.05907191 -1.          0.         -1.        ]\n",
      " [ 0.10674963  0.19664638  0.22825721 -1.        ]\n",
      " [-1.          0.32539844  0.56693785  1.        ]]\n",
      "Policy new at loop: 17\n",
      "[[ 0  3  3  3]\n",
      " [ 0 -1 -1 -1]\n",
      " [ 3  1  0 -1]\n",
      " [-1  2  1 -1]]\n",
      "---------------------------------------------------\n",
      "Value at loop: 18\n",
      "[[ 0.531441  0.59049   0.6561    0.59049 ]\n",
      " [ 0.59049  -1.        0.729    -1.      ]\n",
      " [ 0.6561    0.729     0.81     -1.      ]\n",
      " [-1.        0.81      0.9       1.      ]]\n",
      "Policy at loop: 18\n",
      "[[ 1  2  1  0]\n",
      " [ 1 -1  1 -1]\n",
      " [ 2  1  1 -1]\n",
      " [-1  2  2 -1]]\n",
      "++++++++++++++++++++++++++++++++++++++++++++++++++++\n",
      "Value new at loop: 18\n",
      "[[ 0.04083734  0.01904465  0.00860398  0.00449462]\n",
      " [ 0.06130435 -1.          0.         -1.        ]\n",
      " [ 0.10874038  0.19812158  0.22907527 -1.        ]\n",
      " [-1.          0.3266948   0.56770089  1.        ]]\n",
      "Policy new at loop: 18\n",
      "[[ 0  3  3  3]\n",
      " [ 0 -1 -1 -1]\n",
      " [ 3  1  0 -1]\n",
      " [-1  2  1 -1]]\n",
      "---------------------------------------------------\n",
      "Value at loop: 19\n",
      "[[ 0.531441  0.59049   0.6561    0.59049 ]\n",
      " [ 0.59049  -1.        0.729    -1.      ]\n",
      " [ 0.6561    0.729     0.81     -1.      ]\n",
      " [-1.        0.81      0.9       1.      ]]\n",
      "Policy at loop: 19\n",
      "[[ 1  2  1  0]\n",
      " [ 1 -1  1 -1]\n",
      " [ 2  1  1 -1]\n",
      " [-1  2  2 -1]]\n",
      "++++++++++++++++++++++++++++++++++++++++++++++++++++\n",
      "Value new at loop: 19\n",
      "[[ 0.04289371  0.02054579  0.00964297  0.00527797]\n",
      " [ 0.06326462 -1.          0.         -1.        ]\n",
      " [ 0.11044989  0.19935313  0.22974674 -1.        ]\n",
      " [-1.          0.32775518  0.56831871  1.        ]]\n",
      "Policy new at loop: 19\n",
      "[[ 0  3  3  3]\n",
      " [ 0 -1 -1 -1]\n",
      " [ 3  1  0 -1]\n",
      " [-1  2  1 -1]]\n",
      "---------------------------------------------------\n",
      "Value at loop: 20\n",
      "[[ 0.531441  0.59049   0.6561    0.59049 ]\n",
      " [ 0.59049  -1.        0.729    -1.      ]\n",
      " [ 0.6561    0.729     0.81     -1.      ]\n",
      " [-1.        0.81      0.9       1.      ]]\n",
      "Policy at loop: 20\n",
      "[[ 1  2  1  0]\n",
      " [ 1 -1  1 -1]\n",
      " [ 2  1  1 -1]\n",
      " [-1  2  2 -1]]\n",
      "++++++++++++++++++++++++++++++++++++++++++++++++++++\n",
      "Value new at loop: 20\n",
      "[[ 0.04471561  0.02192474  0.01064002  0.00605967]\n",
      " [ 0.06498247 -1.          0.         -1.        ]\n",
      " [ 0.11192029  0.20038554  0.23030155 -1.        ]\n",
      " [-1.          0.32862811  0.56882217  1.        ]]\n",
      "Policy new at loop: 20\n",
      "[[ 0  3  3  3]\n",
      " [ 0 -1 -1 -1]\n",
      " [ 3  1  0 -1]\n",
      " [-1  2  1 -1]]\n",
      "---------------------------------------------------\n",
      "Value at loop: 21\n",
      "[[ 0.531441  0.59049   0.6561    0.59049 ]\n",
      " [ 0.59049  -1.        0.729    -1.      ]\n",
      " [ 0.6561    0.729     0.81     -1.      ]\n",
      " [-1.        0.81      0.9       1.      ]]\n",
      "Policy at loop: 21\n",
      "[[ 1  2  1  0]\n",
      " [ 1 -1  1 -1]\n",
      " [ 2  1  1 -1]\n",
      " [-1  2  2 -1]]\n",
      "++++++++++++++++++++++++++++++++++++++++++++++++++++\n",
      "Value new at loop: 21\n",
      "[[ 0.04632411  0.02318411  0.01158733  0.00682781]\n",
      " [ 0.06648551 -1.          0.         -1.        ]\n",
      " [ 0.11318649  0.20125499  0.23076231 -1.        ]\n",
      " [-1.          0.32935075  0.56923508  1.        ]]\n",
      "Policy new at loop: 21\n",
      "[[ 0  3  3  3]\n",
      " [ 0 -1 -1 -1]\n",
      " [ 3  1  0 -1]\n",
      " [-1  2  1 -1]]\n",
      "---------------------------------------------------\n",
      "Value at loop: 22\n",
      "[[ 0.531441  0.59049   0.6561    0.59049 ]\n",
      " [ 0.59049  -1.        0.729    -1.      ]\n",
      " [ 0.6561    0.729     0.81     -1.      ]\n",
      " [-1.        0.81      0.9       1.      ]]\n",
      "Policy at loop: 22\n",
      "[[ 1  2  1  0]\n",
      " [ 1 -1  1 -1]\n",
      " [ 2  1  1 -1]\n",
      " [-1  2  2 -1]]\n",
      "++++++++++++++++++++++++++++++++++++++++++++++++++++\n",
      "Value new at loop: 22\n",
      "[[ 0.04774012  0.02432866  0.01247978  0.00757288]\n",
      " [ 0.06779883 -1.          0.         -1.        ]\n",
      " [ 0.1142781   0.20198986  0.23114702 -1.        ]\n",
      " [-1.          0.32995224  0.56957575  1.        ]]\n",
      "Policy new at loop: 22\n",
      "[[ 0  3  3  3]\n",
      " [ 0 -1 -1 -1]\n",
      " [ 3  1  0 -1]\n",
      " [-1  2  1 -1]]\n",
      "---------------------------------------------------\n",
      "Value at loop: 23\n",
      "[[ 0.531441  0.59049   0.6561    0.59049 ]\n",
      " [ 0.59049  -1.        0.729    -1.      ]\n",
      " [ 0.6561    0.729     0.81     -1.      ]\n",
      " [-1.        0.81      0.9       1.      ]]\n",
      "Policy at loop: 23\n",
      "[[ 1  2  1  0]\n",
      " [ 1 -1  1 -1]\n",
      " [ 2  1  1 -1]\n",
      " [-1  2  2 -1]]\n",
      "++++++++++++++++++++++++++++++++++++++++++++++++++++\n",
      "Value new at loop: 23\n",
      "[[ 0.04898372  0.02536457  0.0133144   0.00828766]\n",
      " [ 0.06894511 -1.          0.         -1.        ]\n",
      " [ 0.11522004  0.20261321  0.23146968 -1.        ]\n",
      " [-1.          0.33045536  0.5698584   1.        ]]\n",
      "Policy new at loop: 23\n",
      "[[ 0  3  3  3]\n",
      " [ 0 -1 -1 -1]\n",
      " [ 3  1  0 -1]\n",
      " [-1  2  1 -1]]\n",
      "---------------------------------------------------\n",
      "Value at loop: 24\n",
      "[[ 0.531441  0.59049   0.6561    0.59049 ]\n",
      " [ 0.59049  -1.        0.729    -1.      ]\n",
      " [ 0.6561    0.729     0.81     -1.      ]\n",
      " [-1.        0.81      0.9       1.      ]]\n",
      "Policy at loop: 24\n",
      "[[ 1  2  1  0]\n",
      " [ 1 -1  1 -1]\n",
      " [ 2  1  1 -1]\n",
      " [-1  2  2 -1]]\n",
      "++++++++++++++++++++++++++++++++++++++++++++++++++++\n",
      "Value new at loop: 24\n",
      "[[ 0.05007377  0.02629881  0.01408999  0.00896692]\n",
      " [ 0.06994466 -1.          0.         -1.        ]\n",
      " [ 0.11603351  0.20314352  0.23174148 -1.        ]\n",
      " [-1.          0.33087809  0.57009413  1.        ]]\n",
      "Policy new at loop: 24\n",
      "[[ 0  3  3  3]\n",
      " [ 0 -1 -1 -1]\n",
      " [ 3  1  0 -1]\n",
      " [-1  2  1 -1]]\n",
      "---------------------------------------------------\n",
      "Value at loop: 25\n",
      "[[ 0.531441  0.59049   0.6561    0.59049 ]\n",
      " [ 0.59049  -1.        0.729    -1.      ]\n",
      " [ 0.6561    0.729     0.81     -1.      ]\n",
      " [-1.        0.81      0.9       1.      ]]\n",
      "Policy at loop: 25\n",
      "[[ 1  2  1  0]\n",
      " [ 1 -1  1 -1]\n",
      " [ 2  1  1 -1]\n",
      " [-1  2  2 -1]]\n",
      "++++++++++++++++++++++++++++++++++++++++++++++++++++\n",
      "Value new at loop: 25\n",
      "[[ 0.05102766  0.02713877  0.01480671  0.00960715]\n",
      " [ 0.07081558 -1.          0.         -1.        ]\n",
      " [ 0.11673651  0.20359592  0.2319713  -1.        ]\n",
      " [-1.          0.33123472  0.57029166  1.        ]]\n",
      "Policy new at loop: 25\n",
      "[[ 0  3  3  3]\n",
      " [ 0 -1 -1 -1]\n",
      " [ 3  1  0 -1]\n",
      " [-1  2  1 -1]]\n",
      "---------------------------------------------------\n",
      "Value at loop: 26\n",
      "[[ 0.531441  0.59049   0.6561    0.59049 ]\n",
      " [ 0.59049  -1.        0.729    -1.      ]\n",
      " [ 0.6561    0.729     0.81     -1.      ]\n",
      " [-1.        0.81      0.9       1.      ]]\n",
      "Policy at loop: 26\n",
      "[[ 1  2  1  0]\n",
      " [ 1 -1  1 -1]\n",
      " [ 2  1  1 -1]\n",
      " [-1  2  2 -1]]\n",
      "++++++++++++++++++++++++++++++++++++++++++++++++++++\n",
      "Value new at loop: 26\n",
      "[[ 0.05186127  0.02789194  0.01546579  0.0102063 ]\n",
      " [ 0.07157392 -1.          0.         -1.        ]\n",
      " [ 0.1173444   0.20398276  0.23216628 -1.        ]\n",
      " [-1.          0.33153669  0.57045792  1.        ]]\n",
      "Policy new at loop: 26\n",
      "[[ 0  3  3  3]\n",
      " [ 0 -1 -1 -1]\n",
      " [ 3  1  0 -1]\n",
      " [-1  2  1 -1]]\n",
      "---------------------------------------------------\n",
      "Value at loop: 27\n",
      "[[ 0.531441  0.59049   0.6561    0.59049 ]\n",
      " [ 0.59049  -1.        0.729    -1.      ]\n",
      " [ 0.6561    0.729     0.81     -1.      ]\n",
      " [-1.        0.81      0.9       1.      ]]\n",
      "Policy at loop: 27\n",
      "[[ 1  2  1  0]\n",
      " [ 1 -1  1 -1]\n",
      " [ 2  1  1 -1]\n",
      " [-1  2  2 -1]]\n",
      "++++++++++++++++++++++++++++++++++++++++++++++++++++\n",
      "Value new at loop: 27\n",
      "[[ 0.05258894  0.0285657   0.01606921  0.01076352]\n",
      " [ 0.07223388 -1.          0.         -1.        ]\n",
      " [ 0.11787033  0.20431421  0.2323322  -1.        ]\n",
      " [-1.          0.33179321  0.57059838  1.        ]]\n",
      "Policy new at loop: 27\n",
      "[[ 0  3  3  3]\n",
      " [ 0 -1 -1 -1]\n",
      " [ 3  1  0 -1]\n",
      " [-1  2  1 -1]]\n",
      "---------------------------------------------------\n",
      "Value at loop: 28\n",
      "[[ 0.531441  0.59049   0.6561    0.59049 ]\n",
      " [ 0.59049  -1.        0.729    -1.      ]\n",
      " [ 0.6561    0.729     0.81     -1.      ]\n",
      " [-1.        0.81      0.9       1.      ]]\n",
      "Policy at loop: 28\n",
      "[[ 1  2  1  0]\n",
      " [ 1 -1  1 -1]\n",
      " [ 2  1  1 -1]\n",
      " [-1  2  2 -1]]\n",
      "++++++++++++++++++++++++++++++++++++++++++++++++++++\n",
      "Value new at loop: 28\n",
      "[[ 0.05322353  0.02916715  0.01661953  0.01127887]\n",
      " [ 0.07280794 -1.          0.         -1.        ]\n",
      " [ 0.11832553  0.20459872  0.23247378 -1.        ]\n",
      " [-1.          0.33201174  0.57071748  1.        ]]\n",
      "Policy new at loop: 28\n",
      "[[ 0  3  3  3]\n",
      " [ 0 -1 -1 -1]\n",
      " [ 3  1  0 -1]\n",
      " [-1  2  1 -1]]\n",
      "---------------------------------------------------\n",
      "Value at loop: 29\n",
      "[[ 0.531441  0.59049   0.6561    0.59049 ]\n",
      " [ 0.59049  -1.        0.729    -1.      ]\n",
      " [ 0.6561    0.729     0.81     -1.      ]\n",
      " [-1.        0.81      0.9       1.      ]]\n",
      "Policy at loop: 29\n",
      "[[ 1  2  1  0]\n",
      " [ 1 -1  1 -1]\n",
      " [ 2  1  1 -1]\n",
      " [-1  2  2 -1]]\n",
      "++++++++++++++++++++++++++++++++++++++++++++++++++++\n",
      "Value new at loop: 29\n",
      "[[ 0.0537765   0.02970306  0.01711967  0.01175318]\n",
      " [ 0.0733071  -1.          0.         -1.        ]\n",
      " [ 0.11871966  0.20484331  0.23259486 -1.        ]\n",
      " [-1.          0.33219838  0.57081877  1.        ]]\n",
      "Policy new at loop: 29\n",
      "[[ 0  3  3  3]\n",
      " [ 0 -1 -1 -1]\n",
      " [ 3  1  0 -1]\n",
      " [-1  2  1 -1]]\n",
      "---------------------------------------------------\n",
      "Value at loop: 30\n",
      "[[ 0.531441  0.59049   0.6561    0.59049 ]\n",
      " [ 0.59049  -1.        0.729    -1.      ]\n",
      " [ 0.6561    0.729     0.81     -1.      ]\n",
      " [-1.        0.81      0.9       1.      ]]\n",
      "Policy at loop: 30\n",
      "[[ 1  2  1  0]\n",
      " [ 1 -1  1 -1]\n",
      " [ 2  1  1 -1]\n",
      " [-1  2  2 -1]]\n",
      "++++++++++++++++++++++++++++++++++++++++++++++++++++\n",
      "Value new at loop: 30\n",
      "[[ 0.05425803  0.03017977  0.01757277  0.01218781]\n",
      " [ 0.07374098 -1.          0.         -1.        ]\n",
      " [ 0.11906102  0.20505387  0.23269862 -1.        ]\n",
      " [-1.          0.33235814  0.57090514  1.        ]]\n",
      "Policy new at loop: 30\n",
      "[[ 0  3  3  3]\n",
      " [ 0 -1 -1 -1]\n",
      " [ 3  1  0 -1]\n",
      " [-1  2  1 -1]]\n",
      "---------------------------------------------------\n",
      "Value at loop: 31\n",
      "[[ 0.531441  0.59049   0.6561    0.59049 ]\n",
      " [ 0.59049  -1.        0.729    -1.      ]\n",
      " [ 0.6561    0.729     0.81     -1.      ]\n",
      " [-1.        0.81      0.9       1.      ]]\n",
      "Policy at loop: 31\n",
      "[[ 1  2  1  0]\n",
      " [ 1 -1  1 -1]\n",
      " [ 2  1  1 -1]\n",
      " [-1  2  2 -1]]\n",
      "++++++++++++++++++++++++++++++++++++++++++++++++++++\n",
      "Value new at loop: 31\n",
      "[[ 0.05467711  0.03060317  0.01798211  0.01258452]\n",
      " [ 0.07411801 -1.          0.         -1.        ]\n",
      " [ 0.11935676  0.20523533  0.2327877  -1.        ]\n",
      " [-1.          0.33249515  0.57097898  1.        ]]\n",
      "Policy new at loop: 31\n",
      "[[ 0  3  3  3]\n",
      " [ 0 -1 -1 -1]\n",
      " [ 3  1  0 -1]\n",
      " [-1  2  1 -1]]\n",
      "---------------------------------------------------\n",
      "Value at loop: 32\n",
      "[[ 0.531441  0.59049   0.6561    0.59049 ]\n",
      " [ 0.59049  -1.        0.729    -1.      ]\n",
      " [ 0.6561    0.729     0.81     -1.      ]\n",
      " [-1.        0.81      0.9       1.      ]]\n",
      "Policy at loop: 32\n",
      "[[ 1  2  1  0]\n",
      " [ 1 -1  1 -1]\n",
      " [ 2  1  1 -1]\n",
      " [-1  2  2 -1]]\n",
      "++++++++++++++++++++++++++++++++++++++++++++++++++++\n",
      "Value new at loop: 32\n",
      "[[ 0.05504167  0.03097872  0.01835094  0.01294534]\n",
      " [ 0.07444556 -1.          0.         -1.        ]\n",
      " [ 0.11961303  0.20539188  0.2328643  -1.        ]\n",
      " [-1.          0.33261284  0.57104224  1.        ]]\n",
      "Policy new at loop: 32\n",
      "[[ 0  3  3  3]\n",
      " [ 0 -1 -1 -1]\n",
      " [ 3  1  0 -1]\n",
      " [-1  2  1 -1]]\n",
      "---------------------------------------------------\n",
      "Value at loop: 33\n",
      "[[ 0.531441  0.59049   0.6561    0.59049 ]\n",
      " [ 0.59049  -1.        0.729    -1.      ]\n",
      " [ 0.6561    0.729     0.81     -1.      ]\n",
      " [-1.        0.81      0.9       1.      ]]\n",
      "Policy at loop: 33\n",
      "[[ 1  2  1  0]\n",
      " [ 1 -1  1 -1]\n",
      " [ 2  1  1 -1]\n",
      " [-1  2  2 -1]]\n",
      "++++++++++++++++++++++++++++++++++++++++++++++++++++\n",
      "Value new at loop: 33\n",
      "[[ 0.05535867  0.0313114   0.0186825   0.01327249]\n",
      " [ 0.07473008 -1.          0.         -1.        ]\n",
      " [ 0.11983514  0.20552705  0.23293024 -1.        ]\n",
      " [-1.          0.33271409  0.57109652  1.        ]]\n",
      "Policy new at loop: 33\n",
      "[[ 0  3  3  3]\n",
      " [ 0 -1 -1 -1]\n",
      " [ 3  1  0 -1]\n",
      " [-1  2  1 -1]]\n",
      "---------------------------------------------------\n",
      "Value at loop: 34\n",
      "[[ 0.531441  0.59049   0.6561    0.59049 ]\n",
      " [ 0.59049  -1.        0.729    -1.      ]\n",
      " [ 0.6561    0.729     0.81     -1.      ]\n",
      " [-1.        0.81      0.9       1.      ]]\n",
      "Policy at loop: 34\n",
      "[[ 1  2  1  0]\n",
      " [ 1 -1  1 -1]\n",
      " [ 2  1  1 -1]\n",
      " [-1  2  2 -1]]\n",
      "++++++++++++++++++++++++++++++++++++++++++++++++++++\n",
      "Value new at loop: 34\n",
      "[[ 0.05563423  0.03160577  0.01897991  0.01356824]\n",
      " [ 0.07497717 -1.          0.         -1.        ]\n",
      " [ 0.12002768  0.20564384  0.23298707 -1.        ]\n",
      " [-1.          0.3328013   0.57114318  1.        ]]\n",
      "Policy new at loop: 34\n",
      "[[ 0  3  3  3]\n",
      " [ 0 -1 -1 -1]\n",
      " [ 3  1  0 -1]\n",
      " [-1  2  1 -1]]\n",
      "---------------------------------------------------\n",
      "Value at loop: 35\n",
      "[[ 0.531441  0.59049   0.6561    0.59049 ]\n",
      " [ 0.59049  -1.        0.729    -1.      ]\n",
      " [ 0.6561    0.729     0.81     -1.      ]\n",
      " [-1.        0.81      0.9       1.      ]]\n",
      "Policy at loop: 35\n",
      "[[ 1  2  1  0]\n",
      " [ 1 -1  1 -1]\n",
      " [ 2  1  1 -1]\n",
      " [-1  2  2 -1]]\n",
      "++++++++++++++++++++++++++++++++++++++++++++++++++++\n",
      "Value new at loop: 35\n",
      "[[ 0.05587369  0.03186597  0.01924618  0.01383492]\n",
      " [ 0.07519172 -1.          0.         -1.        ]\n",
      " [ 0.12019461  0.20574482  0.23303611 -1.        ]\n",
      " [-1.          0.3328765   0.57118334  1.        ]]\n",
      "Policy new at loop: 35\n",
      "[[ 0  3  3  3]\n",
      " [ 0 -1 -1 -1]\n",
      " [ 3  1  0 -1]\n",
      " [-1  2  1 -1]]\n",
      "---------------------------------------------------\n",
      "Value at loop: 36\n",
      "[[ 0.531441  0.59049   0.6561    0.59049 ]\n",
      " [ 0.59049  -1.        0.729    -1.      ]\n",
      " [ 0.6561    0.729     0.81     -1.      ]\n",
      " [-1.        0.81      0.9       1.      ]]\n",
      "Policy at loop: 36\n",
      "[[ 1  2  1  0]\n",
      " [ 1 -1  1 -1]\n",
      " [ 2  1  1 -1]\n",
      " [-1  2  2 -1]]\n",
      "++++++++++++++++++++++++++++++++++++++++++++++++++++\n",
      "Value new at loop: 36\n",
      "[[ 0.05608173  0.03209575  0.01948412  0.01407481]\n",
      " [ 0.075378   -1.          0.         -1.        ]\n",
      " [ 0.12033934  0.20583216  0.23307845 -1.        ]\n",
      " [-1.          0.3329414   0.57121795  1.        ]]\n",
      "Policy new at loop: 36\n",
      "[[ 0  3  3  3]\n",
      " [ 0 -1 -1 -1]\n",
      " [ 3  1  0 -1]\n",
      " [-1  2  1 -1]]\n",
      "---------------------------------------------------\n",
      "Value at loop: 37\n",
      "[[ 0.531441  0.59049   0.6561    0.59049 ]\n",
      " [ 0.59049  -1.        0.729    -1.      ]\n",
      " [ 0.6561    0.729     0.81     -1.      ]\n",
      " [-1.        0.81      0.9       1.      ]]\n",
      "Policy at loop: 37\n",
      "[[ 1  2  1  0]\n",
      " [ 1 -1  1 -1]\n",
      " [ 2  1  1 -1]\n",
      " [-1  2  2 -1]]\n",
      "++++++++++++++++++++++++++++++++++++++++++++++++++++\n",
      "Value new at loop: 37\n",
      "[[ 0.05626244  0.03229848  0.0196964   0.01429012]\n",
      " [ 0.07553972 -1.          0.         -1.        ]\n",
      " [ 0.12046485  0.20590776  0.23311503 -1.        ]\n",
      " [-1.          0.33299745  0.5712478   1.        ]]\n",
      "Policy new at loop: 37\n",
      "[[ 0  3  3  3]\n",
      " [ 0 -1 -1 -1]\n",
      " [ 3  1  0 -1]\n",
      " [-1  2  1 -1]]\n",
      "---------------------------------------------------\n",
      "Value at loop: 38\n",
      "[[ 0.531441  0.59049   0.6561    0.59049 ]\n",
      " [ 0.59049  -1.        0.729    -1.      ]\n",
      " [ 0.6561    0.729     0.81     -1.      ]\n",
      " [-1.        0.81      0.9       1.      ]]\n",
      "Policy at loop: 38\n",
      "[[ 1  2  1  0]\n",
      " [ 1 -1  1 -1]\n",
      " [ 2  1  1 -1]\n",
      " [-1  2  2 -1]]\n",
      "++++++++++++++++++++++++++++++++++++++++++++++++++++\n",
      "Value new at loop: 38\n",
      "[[ 0.05641938  0.0324772   0.0198855   0.01448299]\n",
      " [ 0.0756801  -1.          0.         -1.        ]\n",
      " [ 0.1205737   0.2059732   0.23314667 -1.        ]\n",
      " [-1.          0.3330459   0.57127358  1.        ]]\n",
      "Policy new at loop: 38\n",
      "[[ 0  3  3  3]\n",
      " [ 0 -1 -1 -1]\n",
      " [ 3  1  0 -1]\n",
      " [-1  2  1 -1]]\n",
      "---------------------------------------------------\n",
      "Value at loop: 39\n",
      "[[ 0.531441  0.59049   0.6561    0.59049 ]\n",
      " [ 0.59049  -1.        0.729    -1.      ]\n",
      " [ 0.6561    0.729     0.81     -1.      ]\n",
      " [-1.        0.81      0.9       1.      ]]\n",
      "Policy at loop: 39\n",
      "[[ 1  2  1  0]\n",
      " [ 1 -1  1 -1]\n",
      " [ 2  1  1 -1]\n",
      " [-1  2  2 -1]]\n",
      "++++++++++++++++++++++++++++++++++++++++++++++++++++\n",
      "Value new at loop: 39\n",
      "[[ 0.05655566  0.03263462  0.02005371  0.01465545]\n",
      " [ 0.07580196 -1.          0.         -1.        ]\n",
      " [ 0.1206681   0.20602988  0.23317403 -1.        ]\n",
      " [-1.          0.33308781  0.57129584  1.        ]]\n",
      "Policy new at loop: 39\n",
      "[[ 0  3  3  3]\n",
      " [ 0 -1 -1 -1]\n",
      " [ 3  1  0 -1]\n",
      " [-1  2  1 -1]]\n",
      "---------------------------------------------------\n",
      "Value at loop: 40\n",
      "[[ 0.531441  0.59049   0.6561    0.59049 ]\n",
      " [ 0.59049  -1.        0.729    -1.      ]\n",
      " [ 0.6561    0.729     0.81     -1.      ]\n",
      " [-1.        0.81      0.9       1.      ]]\n",
      "Policy at loop: 40\n",
      "[[ 1  2  1  0]\n",
      " [ 1 -1  1 -1]\n",
      " [ 2  1  1 -1]\n",
      " [-1  2  2 -1]]\n",
      "++++++++++++++++++++++++++++++++++++++++++++++++++++\n",
      "Value new at loop: 40\n",
      "[[ 0.05667398  0.0327732   0.02020313  0.01480938]\n",
      " [ 0.07590771 -1.          0.         -1.        ]\n",
      " [ 0.12074998  0.20607898  0.23319772 -1.        ]\n",
      " [-1.          0.33312406  0.5713151   1.        ]]\n",
      "Policy new at loop: 40\n",
      "[[ 0  3  3  3]\n",
      " [ 0 -1 -1 -1]\n",
      " [ 3  1  0 -1]\n",
      " [-1  2  1 -1]]\n",
      "---------------------------------------------------\n",
      "Value at loop: 41\n",
      "[[ 0.531441  0.59049   0.6561    0.59049 ]\n",
      " [ 0.59049  -1.        0.729    -1.      ]\n",
      " [ 0.6561    0.729     0.81     -1.      ]\n",
      " [-1.        0.81      0.9       1.      ]]\n",
      "Policy at loop: 41\n",
      "[[ 1  2  1  0]\n",
      " [ 1 -1  1 -1]\n",
      " [ 2  1  1 -1]\n",
      " [-1  2  2 -1]]\n",
      "++++++++++++++++++++++++++++++++++++++++++++++++++++\n",
      "Value new at loop: 41\n",
      "[[ 0.0567767   0.03289509  0.02033571  0.01494657]\n",
      " [ 0.0759995  -1.          0.         -1.        ]\n",
      " [ 0.120821    0.20612153  0.23321822 -1.        ]\n",
      " [-1.          0.33315544  0.57133175  1.        ]]\n",
      "Policy new at loop: 41\n",
      "[[ 0  3  3  3]\n",
      " [ 0 -1 -1 -1]\n",
      " [ 3  1  0 -1]\n",
      " [-1  2  1 -1]]\n",
      "---------------------------------------------------\n",
      "Value at loop: 42\n",
      "[[ 0.531441  0.59049   0.6561    0.59049 ]\n",
      " [ 0.59049  -1.        0.729    -1.      ]\n",
      " [ 0.6561    0.729     0.81     -1.      ]\n",
      " [-1.        0.81      0.9       1.      ]]\n",
      "Policy at loop: 42\n",
      "[[ 1  2  1  0]\n",
      " [ 1 -1  1 -1]\n",
      " [ 2  1  1 -1]\n",
      " [-1  2  2 -1]]\n",
      "++++++++++++++++++++++++++++++++++++++++++++++++++++\n",
      "Value new at loop: 42\n",
      "[[ 0.05686587  0.03300225  0.02045321  0.01506865]\n",
      " [ 0.07607916 -1.          0.         -1.        ]\n",
      " [ 0.12088261  0.2061584   0.23323598 -1.        ]\n",
      " [-1.          0.33318261  0.57134616  1.        ]]\n",
      "Policy new at loop: 42\n",
      "[[ 0  3  3  3]\n",
      " [ 0 -1 -1 -1]\n",
      " [ 3  1  0 -1]\n",
      " [-1  2  1 -1]]\n",
      "---------------------------------------------------\n",
      "Value at loop: 43\n",
      "[[ 0.531441  0.59049   0.6561    0.59049 ]\n",
      " [ 0.59049  -1.        0.729    -1.      ]\n",
      " [ 0.6561    0.729     0.81     -1.      ]\n",
      " [-1.        0.81      0.9       1.      ]]\n",
      "Policy at loop: 43\n",
      "[[ 1  2  1  0]\n",
      " [ 1 -1  1 -1]\n",
      " [ 2  1  1 -1]\n",
      " [-1  2  2 -1]]\n",
      "++++++++++++++++++++++++++++++++++++++++++++++++++++\n",
      "Value new at loop: 43\n",
      "[[ 0.05694327  0.0330964   0.02055724  0.01517716]\n",
      " [ 0.07614829 -1.          0.         -1.        ]\n",
      " [ 0.12093605  0.20619036  0.23325137 -1.        ]\n",
      " [-1.          0.33320615  0.57135863  1.        ]]\n",
      "Policy new at loop: 43\n",
      "[[ 0  3  3  3]\n",
      " [ 0 -1 -1 -1]\n",
      " [ 3  1  0 -1]\n",
      " [-1  2  1 -1]]\n",
      "---------------------------------------------------\n",
      "Value at loop: 44\n",
      "[[ 0.531441  0.59049   0.6561    0.59049 ]\n",
      " [ 0.59049  -1.        0.729    -1.      ]\n",
      " [ 0.6561    0.729     0.81     -1.      ]\n",
      " [-1.        0.81      0.9       1.      ]]\n",
      "Policy at loop: 44\n",
      "[[ 1  2  1  0]\n",
      " [ 1 -1  1 -1]\n",
      " [ 2  1  1 -1]\n",
      " [-1  2  2 -1]]\n",
      "++++++++++++++++++++++++++++++++++++++++++++++++++++\n",
      "Value new at loop: 44\n",
      "[[ 0.05701045  0.03317907  0.02064924  0.01527346]\n",
      " [ 0.07620829 -1.          0.         -1.        ]\n",
      " [ 0.12098241  0.20621807  0.2332647  -1.        ]\n",
      " [-1.          0.33322654  0.57136943  1.        ]]\n",
      "Policy new at loop: 44\n",
      "[[ 0  3  3  3]\n",
      " [ 0 -1 -1 -1]\n",
      " [ 3  1  0 -1]\n",
      " [-1  2  1 -1]]\n",
      "---------------------------------------------------\n",
      "Value at loop: 45\n",
      "[[ 0.531441  0.59049   0.6561    0.59049 ]\n",
      " [ 0.59049  -1.        0.729    -1.      ]\n",
      " [ 0.6561    0.729     0.81     -1.      ]\n",
      " [-1.        0.81      0.9       1.      ]]\n",
      "Policy at loop: 45\n",
      "[[ 1  2  1  0]\n",
      " [ 1 -1  1 -1]\n",
      " [ 2  1  1 -1]\n",
      " [-1  2  2 -1]]\n",
      "++++++++++++++++++++++++++++++++++++++++++++++++++++\n",
      "Value new at loop: 45\n",
      "[[ 0.05706876  0.03325163  0.02073053  0.01535885]\n",
      " [ 0.07626035 -1.          0.         -1.        ]\n",
      " [ 0.12102263  0.2062421   0.23327625 -1.        ]\n",
      " [-1.          0.33324421  0.57137879  1.        ]]\n",
      "Policy new at loop: 45\n",
      "[[ 0  3  3  3]\n",
      " [ 0 -1 -1 -1]\n",
      " [ 3  1  0 -1]\n",
      " [-1  2  1 -1]]\n",
      "---------------------------------------------------\n",
      "Value at loop: 46\n",
      "[[ 0.531441  0.59049   0.6561    0.59049 ]\n",
      " [ 0.59049  -1.        0.729    -1.      ]\n",
      " [ 0.6561    0.729     0.81     -1.      ]\n",
      " [-1.        0.81      0.9       1.      ]]\n",
      "Policy at loop: 46\n",
      "[[ 1  2  1  0]\n",
      " [ 1 -1  1 -1]\n",
      " [ 2  1  1 -1]\n",
      " [-1  2  2 -1]]\n",
      "++++++++++++++++++++++++++++++++++++++++++++++++++++\n",
      "Value new at loop: 46\n",
      "[[ 0.05711936  0.03331528  0.0208023   0.01543447]\n",
      " [ 0.07630552 -1.          0.         -1.        ]\n",
      " [ 0.12105752  0.20626293  0.23328627 -1.        ]\n",
      " [-1.          0.33325953  0.5713869   1.        ]]\n",
      "Policy new at loop: 46\n",
      "[[ 0  3  3  3]\n",
      " [ 0 -1 -1 -1]\n",
      " [ 3  1  0 -1]\n",
      " [-1  2  1 -1]]\n",
      "---------------------------------------------------\n",
      "Value at loop: 47\n",
      "[[ 0.531441  0.59049   0.6561    0.59049 ]\n",
      " [ 0.59049  -1.        0.729    -1.      ]\n",
      " [ 0.6561    0.729     0.81     -1.      ]\n",
      " [-1.        0.81      0.9       1.      ]]\n",
      "Policy at loop: 47\n",
      "[[ 1  2  1  0]\n",
      " [ 1 -1  1 -1]\n",
      " [ 2  1  1 -1]\n",
      " [-1  2  2 -1]]\n",
      "++++++++++++++++++++++++++++++++++++++++++++++++++++\n",
      "Value new at loop: 47\n",
      "[[ 0.05716327  0.03337108  0.02086561  0.01550137]\n",
      " [ 0.07634472 -1.          0.         -1.        ]\n",
      " [ 0.12108779  0.206281    0.23329495 -1.        ]\n",
      " [-1.          0.33327281  0.57139393  1.        ]]\n",
      "Policy new at loop: 47\n",
      "[[ 0  3  3  3]\n",
      " [ 0 -1 -1 -1]\n",
      " [ 3  1  0 -1]\n",
      " [-1  2  1 -1]]\n",
      "---------------------------------------------------\n",
      "Value at loop: 48\n",
      "[[ 0.531441  0.59049   0.6561    0.59049 ]\n",
      " [ 0.59049  -1.        0.729    -1.      ]\n",
      " [ 0.6561    0.729     0.81     -1.      ]\n",
      " [-1.        0.81      0.9       1.      ]]\n",
      "Policy at loop: 48\n",
      "[[ 1  2  1  0]\n",
      " [ 1 -1  1 -1]\n",
      " [ 2  1  1 -1]\n",
      " [-1  2  2 -1]]\n",
      "++++++++++++++++++++++++++++++++++++++++++++++++++++\n",
      "Value new at loop: 48\n",
      "[[ 0.05720138  0.03341999  0.02092142  0.01556051]\n",
      " [ 0.07637873 -1.          0.         -1.        ]\n",
      " [ 0.12111405  0.20629666  0.23330248 -1.        ]\n",
      " [-1.          0.33328432  0.57140002  1.        ]]\n",
      "Policy new at loop: 48\n",
      "[[ 0  3  3  3]\n",
      " [ 0 -1 -1 -1]\n",
      " [ 3  1  0 -1]\n",
      " [-1  2  1 -1]]\n",
      "---------------------------------------------------\n",
      "Value at loop: 49\n",
      "[[ 0.531441  0.59049   0.6561    0.59049 ]\n",
      " [ 0.59049  -1.        0.729    -1.      ]\n",
      " [ 0.6561    0.729     0.81     -1.      ]\n",
      " [-1.        0.81      0.9       1.      ]]\n",
      "Policy at loop: 49\n",
      "[[ 1  2  1  0]\n",
      " [ 1 -1  1 -1]\n",
      " [ 2  1  1 -1]\n",
      " [-1  2  2 -1]]\n",
      "++++++++++++++++++++++++++++++++++++++++++++++++++++\n",
      "Value new at loop: 49\n",
      "[[ 0.05723445  0.03346284  0.02097058  0.01561273]\n",
      " [ 0.07640825 -1.          0.         -1.        ]\n",
      " [ 0.12113684  0.20631026  0.23330901 -1.        ]\n",
      " [-1.          0.3332943   0.5714053   1.        ]]\n",
      "Policy new at loop: 49\n",
      "[[ 0  3  3  3]\n",
      " [ 0 -1 -1 -1]\n",
      " [ 3  1  0 -1]\n",
      " [-1  2  1 -1]]\n"
     ]
    }
   ],
   "execution_count": 177
  },
  {
   "cell_type": "markdown",
   "metadata": {},
   "source": [
    "Have a completed policy? Let's see it in action! We'll update our `play_game` function to instead take our list of policies. That way, we can start in a random position and still get to the end."
   ]
  },
  {
   "cell_type": "code",
   "metadata": {
    "ExecuteTime": {
     "end_time": "2024-05-22T16:04:55.900638Z",
     "start_time": "2024-05-22T16:04:54.676851Z"
    }
   },
   "source": [
    "def play_game(policy):\n",
    "    state = env.reset()[0]\n",
    "    print(state)\n",
    "    step = 0\n",
    "    done = False\n",
    "\n",
    "    while not done and step < 100:\n",
    "        action = policy[state]  # This line is new.\n",
    "        print(\"action\", action)\n",
    "        state, _, done, _, _ = env.step(action)\n",
    "        env.render()\n",
    "        step += 1\n",
    "        print_state(state, done)\n",
    "\n",
    "\n",
    "play_game(np.array(next_policies_new))"
   ],
   "outputs": [
    {
     "name": "stdout",
     "output_type": "stream",
     "text": [
      "0\n",
      "action 0\n",
      "4 - Still Alive!\n",
      "action 0\n",
      "0 - Still Alive!\n",
      "action 0\n",
      "0 - Still Alive!\n",
      "action 0\n",
      "4 - Still Alive!\n",
      "action 0\n",
      "8 - Still Alive!\n",
      "action 3\n",
      "8 - Still Alive!\n",
      "action 3\n",
      "8 - Still Alive!\n",
      "action 3\n",
      "9 - Still Alive!\n",
      "action 1\n",
      "10 - Still Alive!\n",
      "action 0\n",
      "9 - Still Alive!\n",
      "action 1\n",
      "8 - Still Alive!\n",
      "action 3\n",
      "8 - Still Alive!\n",
      "action 3\n",
      "9 - Still Alive!\n",
      "action 1\n",
      "8 - Still Alive!\n",
      "action 3\n",
      "4 - Still Alive!\n",
      "action 0\n",
      "4 - Still Alive!\n",
      "action 0\n",
      "4 - Still Alive!\n",
      "action 0\n",
      "4 - Still Alive!\n",
      "action 0\n",
      "4 - Still Alive!\n",
      "action 0\n",
      "8 - Still Alive!\n",
      "action 3\n",
      "8 - Still Alive!\n",
      "action 3\n",
      "4 - Still Alive!\n",
      "action 0\n",
      "4 - Still Alive!\n",
      "action 0\n",
      "0 - Still Alive!\n",
      "action 0\n",
      "4 - Still Alive!\n",
      "action 0\n",
      "4 - Still Alive!\n",
      "action 0\n",
      "8 - Still Alive!\n",
      "action 3\n",
      "8 - Still Alive!\n",
      "action 3\n",
      "9 - Still Alive!\n",
      "action 1\n",
      "10 - Still Alive!\n",
      "action 0\n",
      "14 - Still Alive!\n",
      "action 1\n",
      "15 - Cocoa Time!\n"
     ]
    },
    {
     "data": {
      "text/plain": [
       "<Figure size 640x480 with 1 Axes>"
      ],
      "image/png": "[encoded data removed]"
     },
     "metadata": {},
     "output_type": "display_data"
    }
   ],
   "execution_count": 150
  },
  {
   "cell_type": "markdown",
   "metadata": {},
   "source": [
    "Phew! Good job, team! The gumdrop made it out alive. So what became of our gumdrop hero? Well, the next day, it was making another snowman and fell onto an even more slippery and deadly lake. Doh! Turns out this story is part of a trilogy. Feel free to move onto the next section after your own sip of cocoa, coffee, tea, or poison of choice.\n",
    "\n",
    "## Policy Iteration\n",
    "\n",
    "You may have noticed that the first lake was built with the parameter `is_slippery=False`. This time, we're going to switch it to `True`."
   ]
  },
  {
   "cell_type": "code",
   "metadata": {
    "ExecuteTime": {
     "end_time": "2024-05-22T16:04:56.788092Z",
     "start_time": "2024-05-22T16:04:56.628123Z"
    }
   },
   "source": [
    "env = gym.make('FrozenLake-v1', is_slippery=True, render_mode=\"rgb_array\")\n",
    "state = env.reset()\n",
    "print_state(state, False)"
   ],
   "outputs": [
    {
     "name": "stdout",
     "output_type": "stream",
     "text": [
      "(0, {'prob': 1}) - Still Alive!\n"
     ]
    },
    {
     "data": {
      "text/plain": [
       "<Figure size 640x480 with 1 Axes>"
      ],
      "image/png": "[encoded data removed]"
     },
     "metadata": {},
     "output_type": "display_data"
    }
   ],
   "execution_count": 151
  },
  {
   "cell_type": "markdown",
   "metadata": {},
   "source": [
    "Hmm, looks the same as before. Let's try applying our old policy and see what happens."
   ]
  },
  {
   "cell_type": "code",
   "metadata": {
    "ExecuteTime": {
     "end_time": "2024-05-22T16:05:49.962136Z",
     "start_time": "2024-05-22T16:05:48.967602Z"
    }
   },
   "source": "play_game(next_policies_new)",
   "outputs": [
    {
     "name": "stdout",
     "output_type": "stream",
     "text": [
      "0\n",
      "action 0\n",
      "0 - Still Alive!\n",
      "action 0\n",
      "0 - Still Alive!\n",
      "action 0\n",
      "0 - Still Alive!\n",
      "action 0\n",
      "0 - Still Alive!\n",
      "action 0\n",
      "0 - Still Alive!\n",
      "action 0\n",
      "4 - Still Alive!\n",
      "action 0\n",
      "4 - Still Alive!\n",
      "action 0\n",
      "4 - Still Alive!\n",
      "action 0\n",
      "0 - Still Alive!\n",
      "action 0\n",
      "4 - Still Alive!\n",
      "action 0\n",
      "0 - Still Alive!\n",
      "action 0\n",
      "0 - Still Alive!\n",
      "action 0\n",
      "0 - Still Alive!\n",
      "action 0\n",
      "4 - Still Alive!\n",
      "action 0\n",
      "0 - Still Alive!\n",
      "action 0\n",
      "0 - Still Alive!\n",
      "action 0\n",
      "0 - Still Alive!\n",
      "action 0\n",
      "4 - Still Alive!\n",
      "action 0\n",
      "8 - Still Alive!\n",
      "action 3\n",
      "4 - Still Alive!\n",
      "action 0\n",
      "8 - Still Alive!\n",
      "action 3\n",
      "9 - Still Alive!\n",
      "action 1\n",
      "8 - Still Alive!\n",
      "action 3\n",
      "9 - Still Alive!\n",
      "action 1\n",
      "10 - Still Alive!\n",
      "action 0\n",
      "6 - Still Alive!\n",
      "action -1\n"
     ]
    },
    {
     "ename": "KeyError",
     "evalue": "-1",
     "output_type": "error",
     "traceback": [
      "\u001B[0;31m---------------------------------------------------------------------------\u001B[0m",
      "\u001B[0;31mKeyError\u001B[0m                                  Traceback (most recent call last)",
      "Cell \u001B[0;32mIn[152], line 1\u001B[0m\n\u001B[0;32m----> 1\u001B[0m \u001B[43mplay_game\u001B[49m\u001B[43m(\u001B[49m\u001B[43mnext_policies_new\u001B[49m\u001B[43m)\u001B[49m\n",
      "Cell \u001B[0;32mIn[150], line 10\u001B[0m, in \u001B[0;36mplay_game\u001B[0;34m(policy)\u001B[0m\n\u001B[1;32m      8\u001B[0m action \u001B[38;5;241m=\u001B[39m policy[state]  \u001B[38;5;66;03m# This line is new.\u001B[39;00m\n\u001B[1;32m      9\u001B[0m \u001B[38;5;28mprint\u001B[39m(\u001B[38;5;124m\"\u001B[39m\u001B[38;5;124maction\u001B[39m\u001B[38;5;124m\"\u001B[39m, action)\n\u001B[0;32m---> 10\u001B[0m state, _, done, _, _ \u001B[38;5;241m=\u001B[39m \u001B[43menv\u001B[49m\u001B[38;5;241;43m.\u001B[39;49m\u001B[43mstep\u001B[49m\u001B[43m(\u001B[49m\u001B[43maction\u001B[49m\u001B[43m)\u001B[49m\n\u001B[1;32m     11\u001B[0m env\u001B[38;5;241m.\u001B[39mrender()\n\u001B[1;32m     12\u001B[0m step \u001B[38;5;241m+\u001B[39m\u001B[38;5;241m=\u001B[39m \u001B[38;5;241m1\u001B[39m\n",
      "File \u001B[0;32m~/.local/lib/python3.11/site-packages/gymnasium/wrappers/time_limit.py:57\u001B[0m, in \u001B[0;36mTimeLimit.step\u001B[0;34m(self, action)\u001B[0m\n\u001B[1;32m     46\u001B[0m \u001B[38;5;28;01mdef\u001B[39;00m \u001B[38;5;21mstep\u001B[39m(\u001B[38;5;28mself\u001B[39m, action):\n\u001B[1;32m     47\u001B[0m \u001B[38;5;250m    \u001B[39m\u001B[38;5;124;03m\"\"\"Steps through the environment and if the number of steps elapsed exceeds ``max_episode_steps`` then truncate.\u001B[39;00m\n\u001B[1;32m     48\u001B[0m \n\u001B[1;32m     49\u001B[0m \u001B[38;5;124;03m    Args:\u001B[39;00m\n\u001B[0;32m   (...)\u001B[0m\n\u001B[1;32m     55\u001B[0m \n\u001B[1;32m     56\u001B[0m \u001B[38;5;124;03m    \"\"\"\u001B[39;00m\n\u001B[0;32m---> 57\u001B[0m     observation, reward, terminated, truncated, info \u001B[38;5;241m=\u001B[39m \u001B[38;5;28;43mself\u001B[39;49m\u001B[38;5;241;43m.\u001B[39;49m\u001B[43menv\u001B[49m\u001B[38;5;241;43m.\u001B[39;49m\u001B[43mstep\u001B[49m\u001B[43m(\u001B[49m\u001B[43maction\u001B[49m\u001B[43m)\u001B[49m\n\u001B[1;32m     58\u001B[0m     \u001B[38;5;28mself\u001B[39m\u001B[38;5;241m.\u001B[39m_elapsed_steps \u001B[38;5;241m+\u001B[39m\u001B[38;5;241m=\u001B[39m \u001B[38;5;241m1\u001B[39m\n\u001B[1;32m     60\u001B[0m     \u001B[38;5;28;01mif\u001B[39;00m \u001B[38;5;28mself\u001B[39m\u001B[38;5;241m.\u001B[39m_elapsed_steps \u001B[38;5;241m>\u001B[39m\u001B[38;5;241m=\u001B[39m \u001B[38;5;28mself\u001B[39m\u001B[38;5;241m.\u001B[39m_max_episode_steps:\n",
      "File \u001B[0;32m~/.local/lib/python3.11/site-packages/gymnasium/wrappers/order_enforcing.py:56\u001B[0m, in \u001B[0;36mOrderEnforcing.step\u001B[0;34m(self, action)\u001B[0m\n\u001B[1;32m     54\u001B[0m \u001B[38;5;28;01mif\u001B[39;00m \u001B[38;5;129;01mnot\u001B[39;00m \u001B[38;5;28mself\u001B[39m\u001B[38;5;241m.\u001B[39m_has_reset:\n\u001B[1;32m     55\u001B[0m     \u001B[38;5;28;01mraise\u001B[39;00m ResetNeeded(\u001B[38;5;124m\"\u001B[39m\u001B[38;5;124mCannot call env.step() before calling env.reset()\u001B[39m\u001B[38;5;124m\"\u001B[39m)\n\u001B[0;32m---> 56\u001B[0m \u001B[38;5;28;01mreturn\u001B[39;00m \u001B[38;5;28;43mself\u001B[39;49m\u001B[38;5;241;43m.\u001B[39;49m\u001B[43menv\u001B[49m\u001B[38;5;241;43m.\u001B[39;49m\u001B[43mstep\u001B[49m\u001B[43m(\u001B[49m\u001B[43maction\u001B[49m\u001B[43m)\u001B[49m\n",
      "File \u001B[0;32m~/.local/lib/python3.11/site-packages/gymnasium/wrappers/env_checker.py:51\u001B[0m, in \u001B[0;36mPassiveEnvChecker.step\u001B[0;34m(self, action)\u001B[0m\n\u001B[1;32m     49\u001B[0m     \u001B[38;5;28;01mreturn\u001B[39;00m env_step_passive_checker(\u001B[38;5;28mself\u001B[39m\u001B[38;5;241m.\u001B[39menv, action)\n\u001B[1;32m     50\u001B[0m \u001B[38;5;28;01melse\u001B[39;00m:\n\u001B[0;32m---> 51\u001B[0m     \u001B[38;5;28;01mreturn\u001B[39;00m \u001B[38;5;28;43mself\u001B[39;49m\u001B[38;5;241;43m.\u001B[39;49m\u001B[43menv\u001B[49m\u001B[38;5;241;43m.\u001B[39;49m\u001B[43mstep\u001B[49m\u001B[43m(\u001B[49m\u001B[43maction\u001B[49m\u001B[43m)\u001B[49m\n",
      "File \u001B[0;32m~/.local/lib/python3.11/site-packages/gymnasium/envs/toy_text/frozen_lake.py:301\u001B[0m, in \u001B[0;36mFrozenLakeEnv.step\u001B[0;34m(self, a)\u001B[0m\n\u001B[1;32m    300\u001B[0m \u001B[38;5;28;01mdef\u001B[39;00m \u001B[38;5;21mstep\u001B[39m(\u001B[38;5;28mself\u001B[39m, a):\n\u001B[0;32m--> 301\u001B[0m     transitions \u001B[38;5;241m=\u001B[39m \u001B[38;5;28;43mself\u001B[39;49m\u001B[38;5;241;43m.\u001B[39;49m\u001B[43mP\u001B[49m\u001B[43m[\u001B[49m\u001B[38;5;28;43mself\u001B[39;49m\u001B[38;5;241;43m.\u001B[39;49m\u001B[43ms\u001B[49m\u001B[43m]\u001B[49m\u001B[43m[\u001B[49m\u001B[43ma\u001B[49m\u001B[43m]\u001B[49m\n\u001B[1;32m    302\u001B[0m     i \u001B[38;5;241m=\u001B[39m categorical_sample([t[\u001B[38;5;241m0\u001B[39m] \u001B[38;5;28;01mfor\u001B[39;00m t \u001B[38;5;129;01min\u001B[39;00m transitions], \u001B[38;5;28mself\u001B[39m\u001B[38;5;241m.\u001B[39mnp_random)\n\u001B[1;32m    303\u001B[0m     p, s, r, t \u001B[38;5;241m=\u001B[39m transitions[i]\n",
      "\u001B[0;31mKeyError\u001B[0m: -1"
     ]
    },
    {
     "data": {
      "text/plain": [
       "<Figure size 640x480 with 1 Axes>"
      ],
      "image/png": "[encoded data removed]"
     },
     "metadata": {},
     "output_type": "display_data"
    }
   ],
   "execution_count": 152
  },
  {
   "cell_type": "markdown",
   "metadata": {},
   "source": [
    "Was there a game over? There's a small chance that the gumdrop made it to the end, but it's much more likely that it accidentally slipped and fell into a hole. Oh no! We can try repeatedly testing the above code cell over and over again, but it might take a while. In fact, this is a similar roadblock Bellman and his colleagues faced.\n",
    "\n",
    "How efficient is Value Iteration? On our modern machines, this algorithm ran fairly quickly, but back in 1960, that wasn't the case. Let's say our lake is a long straight line like this:\n",
    "\n",
    "| | | | | | | |\n",
    "|-|-|-|-|-|-|-|\n",
    "|S|F|F|F|F|F|H|\n",
    "\n",
    "This is the worst case scenario for value iteration. In each iteration, we look at every state (s) and each action per state (a), so one step of value iteration is O(s*a). In the case of our lake line, each iteration only updates one cell. In other words, the value iteration step needs to be run `s` times. In total, that's O(s<sup>2</sup>a).\n",
    "\n",
    "Back in 1960, that was computationally heavy, and so [Ronald Howard](https://en.wikipedia.org/wiki/Ronald_A._Howard) developed an alteration of Value Iteration that mildly sacrificed mathematical accuracy for speed.\n",
    "\n",
    "Here's the strategy: it was observed that the optimal policy often converged before value iteration was complete. To take advantage of this, we'll start with random policy. When we iterate over our values, we'll use this policy instead of trying to find the maximum neighbor. This has been coded out in `find_future_values` below."
   ]
  },
  {
   "cell_type": "code",
   "metadata": {
    "ExecuteTime": {
     "end_time": "2024-05-22T16:05:55.618712Z",
     "start_time": "2024-05-22T16:05:55.613913Z"
    }
   },
   "source": [
    "def find_future_values(current_values, current_policies):\n",
    "    \"\"\"Finds the next set of future values based on the current policy.\"\"\"\n",
    "    next_values = []\n",
    "\n",
    "    for state in STATE_RANGE:\n",
    "        current_policy = current_policies[state]\n",
    "        state_x, state_y = get_state_coordinates(state)\n",
    "\n",
    "        # If the cell has something other than 0, it's a terminal state.\n",
    "        value = LAKE[state_y, state_x]\n",
    "        if not value:\n",
    "            value = get_neighbor_value(\n",
    "                state_x, state_y, current_values, current_policy)\n",
    "        next_values.append(value)\n",
    "\n",
    "    return np.array(next_values).reshape((LAKE_HEIGHT, LAKE_WIDTH))"
   ],
   "outputs": [],
   "execution_count": 153
  },
  {
   "cell_type": "markdown",
   "metadata": {},
   "source": [
    "After we've calculated our new values, then we'll update the policy (and not the values) based on the maximum neighbor. If there's no change in the policy, then we're done. The below is very similar to our `get_max_neighbor` function. Can you see the differences?"
   ]
  },
  {
   "cell_type": "code",
   "execution_count": null,
   "metadata": {},
   "outputs": [],
   "source": [
    "def find_best_policy(next_values):\n",
    "    \"\"\"Finds the best policy given a value mapping.\"\"\"\n",
    "    next_policies = []\n",
    "    for state in STATE_RANGE:\n",
    "        state_x, state_y = get_state_coordinates(state)\n",
    "\n",
    "        # No policy or best value yet\n",
    "        max_value = -np.inf\n",
    "        best_policy = -1\n",
    "\n",
    "        if not LAKE[state_y, state_x]:\n",
    "            for policy in ACTION_RANGE:\n",
    "                neighbor_value = get_neighbor_value(\n",
    "                    state_x, state_y, next_values, policy)\n",
    "                if neighbor_value > max_value:\n",
    "                    max_value = neighbor_value\n",
    "                    best_policy = policy\n",
    "\n",
    "        next_policies.append(best_policy)\n",
    "    return next_policies"
   ]
  },
  {
   "cell_type": "markdown",
   "metadata": {},
   "source": [
    "To complete the Policy Iteration algorithm, we'll combine the two functions above. Conceptually, we'll be alternating between updating our value function and updating our policy function."
   ]
  },
  {
   "cell_type": "code",
   "execution_count": null,
   "metadata": {},
   "outputs": [],
   "source": [
    "def iterate_policy(current_values, current_policies):\n",
    "    \"\"\"Finds the future state values for an array of current states.\n",
    "    \n",
    "    Args:\n",
    "        current_values (int array): the value of current states.\n",
    "        current_policies (int array): a list where each cell is the recommended\n",
    "            action for the state matching its index.\n",
    "\n",
    "    Returns:\n",
    "        next_values (int array): The value of states based on future states.\n",
    "        next_policies (int array): The recommended action to take in a state.\n",
    "    \"\"\"\n",
    "    next_values = find_future_values(current_values, current_policies)\n",
    "    next_policies = find_best_policy(next_values)\n",
    "    return next_values, next_policies"
   ]
  },
  {
   "cell_type": "markdown",
   "metadata": {},
   "source": [
    "Next, let's modify the `get_neighbor_value` function to now include the slippery ice. Remember the `P` in the Bellman Equation above? It stands for the probability of ending up in a new state given the current state and action taken. That is, we'll take a weighted sum of the values of all possible states based on our chances to be in those states.\n",
    "\n",
    "How does the physics of the slippery ice work? For this lake, whenever the gumdrop tries to move in a particular direction, there are three possible positions that it could end up with. It could move where it was intending to go, but it could also end up to the left or right of the direction it was facing. For instance, if it wanted to move right, it could end up on the square above or below it! This is depicted below, with the yellow squares being potential positions after attempting to move right.\n",
    "\n",
    "<img src=\"images/slipping.jpg\" width=\"360\" height=\"270\">\n",
    "\n",
    "Each of these has an equal probability chance of happening. So since there are three outcomes, they each have about a 33% chance to happen. What happens if we slip in the direction of a boulder? No problem, we'll just end up not moving anywhere. Let's make a function to find what our possible locations could be given a policy and state coordinates."
   ]
  },
  {
   "cell_type": "code",
   "execution_count": null,
   "metadata": {},
   "outputs": [],
   "source": [
    "def get_locations(state_x, state_y, policy):\n",
    "    left = [state_y, state_x - 1]\n",
    "    down = [state_y + 1, state_x]\n",
    "    right = [state_y, state_x + 1]\n",
    "    up = [state_y - 1, state_x]\n",
    "    directions = [left, down, right, up]\n",
    "    num_actions = len(directions)\n",
    "\n",
    "    gumdrop_right = (policy - 1) % num_actions\n",
    "    gumdrop_left = (policy + 1) % num_actions\n",
    "    locations = [gumdrop_left, policy, gumdrop_right]\n",
    "    return [directions[location] for location in locations]"
   ]
  },
  {
   "cell_type": "markdown",
   "metadata": {},
   "source": [
    "Then, we can add it to `get_neighbor_value` to find the weighted value of all the possible states the gumdrop can end up in."
   ]
  },
  {
   "cell_type": "code",
   "execution_count": null,
   "metadata": {},
   "outputs": [],
   "source": [
    "def get_neighbor_value(state_x, state_y, values, policy):\n",
    "    \"\"\"Returns the value of a state's neighbor.\n",
    "    \n",
    "    Args:\n",
    "        state_x (int): The state's horizontal position, 0 is the lake's left.\n",
    "        state_y (int): The state's vertical position, 0 is the lake's top.\n",
    "        values (float array): The current iteration's state values.\n",
    "        policy (int): Which action to check the value for.\n",
    "        \n",
    "    Returns:\n",
    "        The corresponding action's value.\n",
    "    \"\"\"\n",
    "    locations = get_locations(state_x, state_y, policy)\n",
    "    location_chance = 1.0 / len(locations)\n",
    "    total_value = 0\n",
    "\n",
    "    for location in locations:\n",
    "        check_x = location[1]\n",
    "        check_y = location[0]\n",
    "\n",
    "        is_boulder = check_y < 0 or check_y >= LAKE_HEIGHT \\\n",
    "                     or check_x < 0 or check_x >= LAKE_WIDTH\n",
    "\n",
    "        value = values[state_y, state_x]\n",
    "        if not is_boulder:\n",
    "            value = values[check_y, check_x]\n",
    "        total_value += location_chance * value\n",
    "\n",
    "    return total_value"
   ]
  },
  {
   "cell_type": "markdown",
   "metadata": {},
   "source": [
    "For Policy Iteration, we'll start off with a random policy if only because the Gumdrop doesn't know any better yet. We'll reset our current values while we're at it."
   ]
  },
  {
   "cell_type": "code",
   "execution_count": null,
   "metadata": {},
   "outputs": [],
   "source": [
    "current_values = np.zeros_like(LAKE)\n",
    "policies = np.random.choice(ACTION_RANGE, size=STATE_SPACE)\n",
    "np.array(policies).reshape((4, 4))"
   ]
  },
  {
   "cell_type": "markdown",
   "metadata": {},
   "source": [
    "As before with Value Iteration, run the cell below multiple until the policy no longer changes. It should only take 2-3 clicks compared to Value Iteration's 6."
   ]
  },
  {
   "cell_type": "code",
   "execution_count": null,
   "metadata": {},
   "outputs": [],
   "source": [
    "next_values, policies = iterate_policy(current_values, policies)\n",
    "print(\"Value\")\n",
    "print(next_values)\n",
    "print(\"Policy\")\n",
    "print(np.array(policies).reshape((4, 4)))\n",
    "current_values = DISCOUNT * next_values"
   ]
  },
  {
   "cell_type": "markdown",
   "metadata": {},
   "source": [
    "Hmm, does this work? Let's see! Run the cell below to watch the gumdrop slip its way to victory."
   ]
  },
  {
   "cell_type": "code",
   "execution_count": null,
   "metadata": {},
   "outputs": [],
   "source": [
    "play_game(policies)"
   ]
  },
  {
   "cell_type": "markdown",
   "metadata": {},
   "source": [
    "So what was the learned strategy here? The gumdrop learned to hug the left wall of boulders until it was down far enough to make a break for the exit. Instead of heading directly for it though, it took advantage of actions that did not have a hole of death in them. Patience is a virtue!\n",
    "\n",
    "We promised this story was a trilogy, and yes, the next day, the gumdrop fell upon a frozen lake yet again.\n",
    "\n",
    "## Q Learning\n",
    "Value Iteration and Policy Iteration are great techniques, but what if we don't know how big the lake is? With real world problems, not knowing how many potential states are can be a definite possibility.\n",
    "\n",
    "Enter [Chris Watkins](http://www.cs.rhul.ac.uk/~chrisw/). Inspired by how animals learn with delayed rewards, he came up with the idea of [Q Learning](http://www.cs.rhul.ac.uk/~chrisw/new_thesis.pdf) as an evolution of [Richard Sutton's](https://en.wikipedia.org/wiki/Richard_S._Sutton) [Temporal Difference Learning](https://en.wikipedia.org/wiki/Temporal_difference_learning). Watkins noticed that animals learn from positive and negative rewards, and that they often make mistakes in order to optimize a skill.\n",
    "\n",
    "From this emerged the idea of a Q table. In the lake case, it would look something like this.\n",
    "\n",
    "| |Left|Down|Right|Up|\n",
    "|-|-|-|-|-|\n",
    "|0| | | | |\n",
    "|1| | | | |\n",
    "|...| | | | |\n",
    "\n",
    "Here's the strategy: our agent will explore the environment. As the agent observes new states, we'll add more rows to our table. Whenever it moves from one state to the next, we'll update the cell corresponding to the old state based on the Bellman Equation. The agent doesn't need to know what the probabilities are between transitions. It'll learn the value of these as it experiments.\n",
    "\n",
    "For Q learning, this works by looking at the row that corresponds to the agent's current state. Then, we'll select the action with the highest value. There are multiple ways to initialize the Q-table, but for us, we'll start with all zeros. In that case, when selecting the best action, we'll randomly select between tied max values. If we don't, the agent will favor certain actions which will limit its exploration.\n",
    "\n",
    "To be able to handle an unknown number of states, we'll initialize our q_table as one row to represent our initial state. Then, we'll make a dictionary to map new states to rows in the table."
   ]
  },
  {
   "cell_type": "code",
   "execution_count": null,
   "metadata": {},
   "outputs": [],
   "source": [
    "new_row = np.zeros((1, env.action_space.n))\n",
    "q_table = np.copy(new_row)\n",
    "q_map = {0: 0}\n",
    "\n",
    "\n",
    "def print_q(q_table, q_map):\n",
    "    print(\"mapping\")\n",
    "    print(q_map)\n",
    "    print(\"q_table\")\n",
    "    print(q_table)\n",
    "\n",
    "\n",
    "print_q(q_table, q_map)"
   ]
  },
  {
   "cell_type": "markdown",
   "metadata": {},
   "source": [
    "Our new `get_action` function will help us read the `q_table` and find the best action.\n",
    "\n",
    "First, we'll give the agent the ability to act randomly as opposed to choosing the best known action. This gives it the ability to explore and find new situations. This is done with a random chance to act randomly. So random!\n",
    "\n",
    "When the Gumdrop chooses not to act randomly, it will instead act based on the best action recorded in the `q_table`. Numpy's [argwhere](https://docs.scipy.org/doc/numpy/reference/generated/numpy.argwhere.html) is used to find the indexes with the maximum value in the q-table row corresponding to our current state. Since numpy is often used with higher dimensional data, each index is returned as a list of ints. Our indexes are really one dimensional since we're just looking within a single row, so we'll use [np.squeeze](https://docs.scipy.org/doc/numpy/reference/generated/numpy.squeeze.html) to remove the extra brackets. To randomly select from the indexes, we'll use [np.random.choice](https://docs.scipy.org/doc/numpy-1.14.1/reference/generated/numpy.random.choice.html)."
   ]
  },
  {
   "cell_type": "code",
   "execution_count": null,
   "metadata": {},
   "outputs": [],
   "source": [
    "def get_action(q_map, q_table, state_row, random_rate):\n",
    "    \"\"\"Find max-valued actions and randomly select from them.\"\"\"\n",
    "    if random.random() < random_rate:\n",
    "        return random.randint(0, ACTION_SPACE - 1)\n",
    "\n",
    "    action_values = q_table[state_row]\n",
    "    max_indexes = np.argwhere(action_values == action_values.max())\n",
    "    max_indexes = np.squeeze(max_indexes, axis=-1)\n",
    "    action = np.random.choice(max_indexes)\n",
    "    return action"
   ]
  },
  {
   "cell_type": "markdown",
   "metadata": {},
   "source": [
    "Here, we'll define how the `q_table` gets updated. We'll apply the Bellman Equation as before, but since there is so much luck involved between slipping and random actions, we'll update our `q_table` as a weighted average between the `old_value` we're updating and the `future_value` based on the best action in the next state. That way, there's a little bit of memory between old and new experiences."
   ]
  },
  {
   "cell_type": "code",
   "execution_count": null,
   "metadata": {},
   "outputs": [],
   "source": [
    "def update_q(q_table, new_state_row, reward, old_value):\n",
    "    \"\"\"Returns an updated Q-value based on the Bellman Equation.\"\"\"\n",
    "    learning_rate = .1  # Change to be between 0 and 1.\n",
    "    future_value = reward + DISCOUNT * np.max(q_table[new_state_row])\n",
    "    return old_value + learning_rate * (future_value - old_value)"
   ]
  },
  {
   "cell_type": "markdown",
   "metadata": {},
   "source": [
    "We'll update our `play_game` function to take our table and mapping, and at the end, we'll return any updates to them. Once we observe new states, we'll check our mapping and add then to the table if space isn't allocated for them already.\n",
    "\n",
    "Finally, for every `state` - `action` - `new-state` transition, we'll update the cell in `q_table` that corresponds to the `state` and `action` with the Bellman Equation.\n",
    "\n",
    "There's a little secret to solving this lake problem, and that's to have a small negative reward when moving between states. Otherwise, the gumdrop will become too afraid of slipping in a death hole to explore out of what is thought to be safe positions."
   ]
  },
  {
   "cell_type": "code",
   "execution_count": null,
   "metadata": {},
   "outputs": [],
   "source": [
    "def play_game(q_table, q_map, random_rate, render=False):\n",
    "    state = env.reset()\n",
    "    step = 0\n",
    "    done = False\n",
    "\n",
    "    while not done:\n",
    "        state_row = q_map[state]\n",
    "        action = get_action(q_map, q_table, state_row, random_rate)\n",
    "        new_state, _, done, _ = env.step(action)\n",
    "\n",
    "        #Add new state to table and mapping if it isn't there already.\n",
    "        if new_state not in q_map:\n",
    "            q_map[new_state] = len(q_table)\n",
    "            q_table = np.append(q_table, new_row, axis=0)\n",
    "        new_state_row = q_map[new_state]\n",
    "\n",
    "        reward = -.01  #Encourage exploration.\n",
    "        if done:\n",
    "            reward = 1 if new_state == 15 else -1\n",
    "        current_q = q_table[state_row, action]\n",
    "        q_table[state_row, action] = update_q(\n",
    "            q_table, new_state_row, reward, current_q)\n",
    "\n",
    "        step += 1\n",
    "        if render:\n",
    "            env.render()\n",
    "            print_state(new_state, done)\n",
    "        state = new_state\n",
    "\n",
    "    return q_table, q_map"
   ]
  },
  {
   "cell_type": "markdown",
   "metadata": {},
   "source": [
    "Ok, time to shine, gumdrop emoji! Let's do one simulation and see what happens."
   ]
  },
  {
   "cell_type": "code",
   "execution_count": null,
   "metadata": {},
   "outputs": [],
   "source": [
    "# Run to refresh the q_table.\n",
    "random_rate = 1\n",
    "q_table = np.copy(new_row)\n",
    "q_map = {0: 0}"
   ]
  },
  {
   "cell_type": "code",
   "execution_count": null,
   "metadata": {},
   "outputs": [],
   "source": [
    "q_table, q_map = play_game(q_table, q_map, random_rate, render=True)\n",
    "print_q(q_table, q_map)"
   ]
  },
  {
   "cell_type": "markdown",
   "metadata": {},
   "source": [
    "Unless the gumdrop was incredibly lucky, chances were, it fell in some death water. Q-learning is markedly different from Value Iteration or Policy Iteration in that it attempts to simulate how an animal learns in unknown situations. Since the layout of the lake is unknown to the Gumdrop, it doesn't know which states are death holes, and which ones are safe. Because of this, it's going to make many mistakes before it can start making successes.\n",
    "\n",
    "Feel free to run the above cell multiple times to see how the gumdrop steps through trial and error. When you're ready, run the below cell to have the gumdrop play 1000 times."
   ]
  },
  {
   "cell_type": "code",
   "execution_count": null,
   "metadata": {},
   "outputs": [],
   "source": [
    "for _ in range(1000):\n",
    "    q_table, q_map = play_game(q_table, q_map, random_rate)\n",
    "    random_rate = random_rate * .99\n",
    "print_q(q_table, q_map)\n",
    "random_rate"
   ]
  },
  {
   "cell_type": "markdown",
   "metadata": {},
   "source": [
    "Cats have nine lives, our Gumdrop lived a thousand! Moment of truth. Can it get out of the lake now that it matters?"
   ]
  },
  {
   "cell_type": "code",
   "execution_count": null,
   "metadata": {},
   "outputs": [],
   "source": [
    "q_table, q_map = play_game(q_table, q_map, 0, render=True)"
   ]
  },
  {
   "cell_type": "markdown",
   "metadata": {},
   "source": [
    "Third time's the charm!\n",
    "\n",
    "Each of these techniques has its pros and cons. For instance, while Value Iteration is the mathematically correct solution, it's not as time efficient at Policy Iteration or as flexible as Q-Learning.\n",
    "\n",
    "| |Value Iteration|Policy Iteration|Q Tables|\n",
    "|-|-|-|-|\n",
    "|Avoids locally optimal routes|✓|x|x|\n",
    "|On-policy (greedy)|✓|✓|x|\n",
    "|Model Free|x|x|✓|\n",
    "|Most time efficient|x|✓|x|\n",
    "\n",
    "Congratulations on making it through to the end. Now if you ever fall on a Frozen Lake, you'll have many different ways to calculate your survival. The gumdrop thank you!\n",
    "\n",
    "<img src=\"images/end.jpg\" width=\"178\" height=\"234\">"
   ]
  },
  {
   "cell_type": "markdown",
   "metadata": {},
   "source": [
    "Copyright 2020 Google Inc.\n",
    "Licensed under the Apache License, Version 2.0 (the \"License\"); you may not use this file except in compliance with the License. You may obtain a copy of the License at\n",
    "http://www.apache.org/licenses/LICENSE-2.0\n",
    "Unless required by applicable law or agreed to in writing, software distributed under the License is distributed on an \"AS IS\" BASIS, WITHOUT WARRANTIES OR CONDITIONS OF ANY KIND, either express or implied. See the License for the specific language governing permissions and limitations under the License."
   ]
  }
 ],
 "metadata": {
  "kernelspec": {
   "display_name": "Python 3 (ipykernel)",
   "language": "python",
   "name": "python3"
  },
  "language_info": {
   "codemirror_mode": {
    "name": "ipython",
    "version": 3
   },
   "file_extension": ".py",
   "mimetype": "text/x-python",
   "name": "python",
   "nbconvert_exporter": "python",
   "pygments_lexer": "ipython3",
   "version": "3.11.9"
  }
 },
 "nbformat": 4,
 "nbformat_minor": 4
}
