{
 "cells": [
  {
   "metadata": {
    "ExecuteTime": {
     "end_time": "2024-05-23T03:14:59.394045Z",
     "start_time": "2024-05-23T03:14:59.382864Z"
    }
   },
   "cell_type": "code",
   "source": [
    "from brisque import BRISQUE\n",
    "import numpy as np\n",
    "from PIL import Image\n",
    "import os\n",
    "import cv2"
   ],
   "id": "dacb8ce01a69a098",
   "outputs": [],
   "execution_count": 49
  },
  {
   "metadata": {
    "ExecuteTime": {
     "end_time": "2024-05-23T03:15:00.033312Z",
     "start_time": "2024-05-23T03:15:00.022799Z"
    }
   },
   "cell_type": "code",
   "source": [
    "dir_path = \"work/labs/images\"\n",
    "def get_all_file_path_in_dir(dir_path):\n",
    "    file_paths = []\n",
    "    for root, dirs, files in os.walk(dir_path):\n",
    "        for file in files:\n",
    "            file_paths.append(os.path.join(root, file))\n",
    "    return file_paths"
   ],
   "id": "6c6bf60d23e5a245",
   "outputs": [],
   "execution_count": 50
  },
  {
   "metadata": {
    "ExecuteTime": {
     "end_time": "2024-05-23T03:16:54.988030Z",
     "start_time": "2024-05-23T03:16:50.844835Z"
    }
   },
   "cell_type": "code",
   "source": [
    "def resize_image(input_image_path, output_image_path, max_size):\n",
    "    with Image.open(input_image_path) as image:\n",
    "        # Lấy kích thước gốc của ảnh\n",
    "        original_width, original_height = image.size\n",
    "        # Tính tỉ lệ để resize\n",
    "        ratio = min(max_size / original_width, max_size / original_height)\n",
    "        # Tính kích thước mới\n",
    "        new_width = int(original_width * ratio)\n",
    "        new_height = int(original_height * ratio)\n",
    "        # Resize ảnh\n",
    "        resized_image = image.resize((new_width, new_height))\n",
    "        # Lưu ảnh đã resize\n",
    "        resized_image.save(output_image_path)\n",
    "\n",
    "# Mảng chứa đường dẫn tới các ảnh\n",
    "image_paths = get_all_file_path_in_dir(dir_path)\n",
    "# Thư mục để lưu ảnh đã resize\n",
    "output_dir = \"work/labs/images/resized_images\"\n",
    "os.makedirs(output_dir, exist_ok=True)\n",
    "\n",
    "# Kích thước tối đa\n",
    "max_size = 80\n",
    "\n",
    "# Resize từng ảnh trong mảng\n",
    "for image_path in image_paths:\n",
    "    # Tạo đường dẫn cho ảnh đã resize\n",
    "    file_name = os.path.basename(image_path)\n",
    "    output_path = os.path.join(output_dir, file_name)\n",
    "    # Resize ảnh\n",
    "    resize_image(image_path, output_path, max_size)\n",
    "\n",
    "print(\"Resize hoàn tất!\")"
   ],
   "id": "830938d085030646",
   "outputs": [
    {
     "name": "stdout",
     "output_type": "stream",
     "text": [
      "Resize hoàn tất!\n"
     ]
    }
   ],
   "execution_count": 53
  },
  {
   "cell_type": "code",
   "id": "initial_id",
   "metadata": {
    "collapsed": true,
    "ExecuteTime": {
     "end_time": "2024-05-23T03:21:49.461686Z",
     "start_time": "2024-05-23T03:21:48.690137Z"
    }
   },
   "source": [
    "\n",
    "def load_image(image_path):\n",
    "    img = Image.open(image_path)\n",
    "    return np.asarray(img)\n",
    "\n",
    "image_path_array = get_all_file_path_in_dir(output_dir)\n",
    "\n",
    "def score_image(image_path):\n",
    "    img_arr = load_image(image_path)\n",
    "    obj = BRISQUE(url=False)\n",
    "    return obj.score(img=img_arr)\n",
    "\n",
    "def measure_blurriness(image_path):\n",
    "    image = cv2.imread(image_path)\n",
    "    gray = cv2.cvtColor(image, cv2.COLOR_BGR2GRAY)\n",
    "    laplacian_var = cv2.Laplacian(gray, cv2.CV_64F).var()\n",
    "    return laplacian_var\n",
    "\n",
    "def measure_image(image_path):\n",
    "    return image_path, measure_blurriness(image_path)\n",
    "\n",
    "image_scores = [measure_image(image_path) for image_path in image_path_array]"
   ],
   "outputs": [],
   "execution_count": 57
  },
  {
   "metadata": {
    "ExecuteTime": {
     "end_time": "2024-05-23T03:21:52.662650Z",
     "start_time": "2024-05-23T03:21:52.644803Z"
    }
   },
   "cell_type": "code",
   "source": [
    "sorted_image_scores_desc = sorted(image_scores, key=lambda x: x[1], reverse=True)\n",
    "for image_path, blurriness in sorted_image_scores_desc:\n",
    "    print(image_path, blurriness)"
   ],
   "id": "cd04f37441ab4bbe",
   "outputs": [
    {
     "name": "stdout",
     "output_type": "stream",
     "text": [
      "work/labs/images/resized_images/license_plates_image_2024-05-23T02-12-12.559Z.jpg 10776.51658881173\n",
      "work/labs/images/resized_images/license_plates_image_2024-05-23T02-12-25.406Z.jpg 9867.624160210353\n",
      "work/labs/images/resized_images/license_plates_image_2024-05-23T03-00-32.965Z.jpg 8105.595001698371\n",
      "work/labs/images/resized_images/license_plates_image_2024-05-23T03-00-49.794Z.jpg 7106.207315531779\n",
      "work/labs/images/resized_images/license_plates_image_2024-05-23T02-12-22.416Z.jpg 6565.135059169503\n",
      "work/labs/images/resized_images/license_plates_image_2024-05-23T03-01-06.204Z.jpg 6471.370945865557\n",
      "work/labs/images/resized_images/license_plates_image_2024-05-23T03-00-09.114Z.jpg 6313.319266826923\n",
      "work/labs/images/resized_images/license_plates_image_2024-05-23T02-12-06.262Z.jpg 5696.6851204427085\n",
      "work/labs/images/resized_images/03G.png 5513.666275431315\n",
      "work/labs/images/resized_images/license_plates_image_2024-05-23T02-11-44.853Z.jpg 4413.333620822053\n",
      "work/labs/images/resized_images/license_plates_image_2024-05-23T03-00-31.309Z.jpg 3930.3174999641296\n",
      "work/labs/images/resized_images/license_plates_image_2024-05-22T20-52-34.779Z.jpg 3355.757836109459\n",
      "work/labs/images/resized_images/license_plates_image_2024-05-22T20-46-39.167Z.jpg 3134.8204333191616\n",
      "work/labs/images/resized_images/16G.png 2599.839599541558\n",
      "work/labs/images/resized_images/license_plates_image_2024-05-23T02-12-36.107Z.jpg 2464.5949369036625\n",
      "work/labs/images/resized_images/license_plates_image_2024-05-23T02-11-24.396Z.jpg 2313.7701719957636\n",
      "work/labs/images/resized_images/14B.png 1832.467378472222\n",
      "work/labs/images/resized_images/license_plates_image_2024-05-23T02-11-25.687Z.jpg 1824.5463218021262\n",
      "work/labs/images/resized_images/license_plates_image_2024-05-23T02-11-51.535Z.jpg 1756.1876675619837\n",
      "work/labs/images/resized_images/15G.png 1586.0258843315974\n",
      "work/labs/images/resized_images/21G.png 1529.5171742078994\n",
      "work/labs/images/resized_images/07G.png 1318.4890614149306\n",
      "work/labs/images/resized_images/10G.png 1146.8773914930557\n",
      "work/labs/images/resized_images/license_plates_image_2024-05-22T20-46-59.257Z.jpg 1046.2616493055555\n",
      "work/labs/images/resized_images/09G.png 1010.1313083224827\n",
      "work/labs/images/resized_images/22G.png 902.429380900065\n",
      "work/labs/images/resized_images/17G.png 870.245323079427\n",
      "work/labs/images/resized_images/06G.png 860.1118212212457\n",
      "work/labs/images/resized_images/12G.png 836.6327603488498\n",
      "work/labs/images/resized_images/license_plates_image_2024-05-22T20-51-33.528Z.jpg 828.5286025385343\n",
      "work/labs/images/resized_images/25B.png 827.0952593315973\n",
      "work/labs/images/resized_images/24B.png 662.0960432264541\n",
      "work/labs/images/resized_images/11B.png 633.3425992160373\n",
      "work/labs/images/resized_images/license_plates_image_2024-05-22T20-50-13.213Z.jpg 593.1910072046396\n",
      "work/labs/images/resized_images/04B.png 420.050833062066\n",
      "work/labs/images/resized_images/license_plates_image_2024-05-23T02-11-23.070Z.jpg 417.5511501728791\n",
      "work/labs/images/resized_images/13B.png 409.03290337456593\n",
      "work/labs/images/resized_images/02B.png 393.9321923149957\n",
      "work/labs/images/resized_images/license_plates_image_2024-05-22T20-52-54.110Z.jpg 333.98537013250404\n",
      "work/labs/images/resized_images/18B.png 319.3939094373915\n",
      "work/labs/images/resized_images/01B.png 283.0171343315972\n",
      "work/labs/images/resized_images/08B.png 200.35628899468313\n",
      "work/labs/images/resized_images/23B.png 174.74445285373264\n",
      "work/labs/images/resized_images/05B.png 96.36345377604167\n",
      "work/labs/images/resized_images/license_plates_image_2024-05-23T03-01-07.884Z.jpg 90.23955516493056\n"
     ]
    }
   ],
   "execution_count": 58
  },
  {
   "metadata": {
    "ExecuteTime": {
     "end_time": "2024-05-23T02:13:02.850977Z",
     "start_time": "2024-05-23T02:13:02.846663Z"
    }
   },
   "cell_type": "code",
   "source": "",
   "id": "1a559c70ab926e77",
   "outputs": [],
   "execution_count": 14
  },
  {
   "metadata": {},
   "cell_type": "code",
   "outputs": [],
   "execution_count": null,
   "source": "",
   "id": "ce4c933b22eece79"
  }
 ],
 "metadata": {
  "kernelspec": {
   "display_name": "Python 3",
   "language": "python",
   "name": "python3"
  },
  "language_info": {
   "codemirror_mode": {
    "name": "ipython",
    "version": 2
   },
   "file_extension": ".py",
   "mimetype": "text/x-python",
   "name": "python",
   "nbconvert_exporter": "python",
   "pygments_lexer": "ipython2",
   "version": "2.7.6"
  }
 },
 "nbformat": 4,
 "nbformat_minor": 5
}
